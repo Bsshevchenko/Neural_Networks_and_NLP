{
  "cells": [
    {
      "cell_type": "markdown",
      "metadata": {
        "id": "nWvD7qWzGI1J"
      },
      "source": [
        "# Работа со строками. Регулярные выражения. Практика"
      ]
    },
    {
      "cell_type": "markdown",
      "metadata": {
        "id": "pKiSLIceOw7u"
      },
      "source": [
        "## Как сдавать"
      ]
    },
    {
      "cell_type": "markdown",
      "metadata": {
        "id": "bstPr_kfO4Bg"
      },
      "source": [
        "\n",
        "\n",
        "1.   Создаем копию ноутбука и сохраняем к себе на Google Drive\n",
        "2.   Выполняем задания\n",
        "3.   Делаем ноутбук доступным для чтения и комментариев\n",
        "     - в правом верхнем углу кликаем `Share`\n",
        "     - выбираем Anyone with the link (в `General access`)\n",
        "     - меняем роль `Viewer` на `Commenter`\n",
        "     - копируем получившуюся ссылку (`Copy link`) и отправляем на степик\n"
      ]
    },
    {
      "cell_type": "markdown",
      "metadata": {
        "id": "lHvWur9lfs8v"
      },
      "source": [
        "## Упражнения"
      ]
    },
    {
      "cell_type": "code",
      "execution_count": 24,
      "metadata": {
        "id": "SQ1t7nKMy0e4"
      },
      "outputs": [],
      "source": [
        "import re"
      ]
    },
    {
      "cell_type": "markdown",
      "metadata": {
        "id": "dSwELBk53g-V"
      },
      "source": [
        "### Задание 1. Четное число"
      ]
    },
    {
      "cell_type": "markdown",
      "metadata": {
        "id": "nehfD6fd3pFQ"
      },
      "source": [
        "Напишите регулярное выражение, соответствующее четному числу."
      ]
    },
    {
      "cell_type": "code",
      "execution_count": 25,
      "metadata": {
        "id": "5dRgorkJ3qUU"
      },
      "outputs": [],
      "source": [
        "# числа\n",
        "numbers = {\n",
        "    \"2341\": False,\n",
        "    \"132\": True,\n",
        "    \"29\": False,\n",
        "    \"5578\": True\n",
        "}\n",
        "\n",
        "pattern = r'^[02468]$|^[1-9]\\d*[02468]$'\n",
        "\n",
        "for number, answer in numbers.items():\n",
        "  assert bool(re.match(pattern, number)) == numbers[number]"
      ]
    },
    {
      "cell_type": "markdown",
      "metadata": {
        "id": "ZL--cOY4fvkn"
      },
      "source": [
        "### Задание 2. Гласные"
      ]
    },
    {
      "cell_type": "markdown",
      "metadata": {
        "id": "ujnPIx0Dfznb"
      },
      "source": [
        "Извлечь все слова, начинающиеся на гласную"
      ]
    },
    {
      "cell_type": "code",
      "execution_count": 26,
      "metadata": {
        "id": "RbkJSfSZHxUi"
      },
      "outputs": [
        {
          "data": {
            "text/plain": [
              "['ОГО', 'отправились', 'обедать', 'Один', 'их', 'осталось']"
            ]
          },
          "execution_count": 26,
          "metadata": {},
          "output_type": "execute_result"
        }
      ],
      "source": [
        "string = 'ОГО Десять негритят отправились обедать, \\\n",
        "          Один поперхнулся, их осталось девять.'\n",
        "pattern = r'\\b[АЕЁИОУЫЭЮЯаеёиоуыэюя]\\S*\\b'\n",
        "re.findall(pattern, string)"
      ]
    },
    {
      "cell_type": "markdown",
      "metadata": {
        "id": "LJFV1Cy2yRJR"
      },
      "source": [
        "### Задание 3. Телефонный номер"
      ]
    },
    {
      "cell_type": "markdown",
      "metadata": {
        "id": "CfSGk0pGyVCb"
      },
      "source": [
        "Проверить телефонный номер (номер должен быть длиной 10 знаков и начинаться с 7 или 8)"
      ]
    },
    {
      "cell_type": "code",
      "execution_count": 27,
      "metadata": {
        "id": "VCOJVmcuyQL5"
      },
      "outputs": [
        {
          "name": "stdout",
          "output_type": "stream",
          "text": [
            "899999999964 - некорректный телефонный номер\n",
            "8999999999 - корректный телефонный номер\n",
            "79999999992 - некорректный телефонный номер\n",
            "7999999999 - корректный телефонный номер\n",
            "9999999999 - некорректный телефонный номер\n"
          ]
        }
      ],
      "source": [
        "phone_numbers = ['899999999964', '8999999999', '79999999992', '7999999999', '9999999999']\n",
        "pattern = r'^[78]\\d{9}$'\n",
        "\n",
        "for number in phone_numbers:\n",
        "  if  re.match(pattern, number):\n",
        "      print(f'{number} - корректный телефонный номер')\n",
        "  else:\n",
        "      print (f'{number} - некорректный телефонный номер')"
      ]
    },
    {
      "cell_type": "markdown",
      "metadata": {
        "id": "LiUIhVJSybLM"
      },
      "source": [
        "### Задание 4. Номера автомобилей"
      ]
    },
    {
      "cell_type": "markdown",
      "metadata": {
        "id": "oTA5KMCeyeaM"
      },
      "source": [
        "В России применяются регистрационные знаки нескольких видов. Общего в них то, что они состоят из цифр и букв. Причём используются только 12 букв кириллицы,\n",
        "имеющие графические аналоги в латинском алфавите — А, В, Е, К, М, Н, О, Р, С, Т, У и Х.\n",
        "\n",
        "У частных легковых автомобилях номера — это буква, три цифры, две буквы, затем две или три цифры с\n",
        "кодом региона. У такси — две буквы, три цифры, затем две или три цифры с кодом региона.\n",
        "Есть также и другие виды, но в этой задаче они не понадобятся."
      ]
    },
    {
      "cell_type": "code",
      "execution_count": 28,
      "metadata": {
        "id": "pxEiw7jGyeB4"
      },
      "outputs": [],
      "source": [
        "# Автомобильные номера\n",
        "numbers = ['С227НА777', 'КУ22777', 'Т22В7477', 'М227К19У9', 'С227НА8777']\n",
        "\n",
        "# Теперь правильные ответы\n",
        "Answers = ['Private', 'Taxi', 'Fail', 'Fail', 'Fail']"
      ]
    },
    {
      "cell_type": "code",
      "execution_count": 29,
      "metadata": {
        "id": "pb5eWG0G2Bmn"
      },
      "outputs": [
        {
          "name": "stdout",
          "output_type": "stream",
          "text": [
            "Fail\n"
          ]
        }
      ],
      "source": [
        "x = int(input('Введите номер примера для проверки:'))\n",
        "number = numbers[x]\n",
        "\n",
        "private_pattern = r'^[АВЕКМНОРСТУХABEKMHOPCTYX]\\d{3}[АВЕКМНОРСТУХABEKMHOPCTYX]{2}\\d{2,3}$'\n",
        "taxi_pattern = r'^[ABEKMHOPCTYX]{2}\\d{5}$'\n",
        "\n",
        "if re.match(private_pattern, number) and len(number) in (8,9):\n",
        "    print('Private')\n",
        "elif re.match(taxi_pattern, number) and len(number) in (7,8):\n",
        "    print('Taxi')\n",
        "else:\n",
        "    print('Fail')"
      ]
    },
    {
      "cell_type": "markdown",
      "metadata": {
        "id": "Do324_es5lNH"
      },
      "source": [
        "### Задание 5. Проверка пароля"
      ]
    },
    {
      "cell_type": "markdown",
      "metadata": {
        "id": "Uwjvt6HP5ujl"
      },
      "source": [
        "На сайте нужно вывести сообщение, если пароль не валиден.\n",
        "Обычно пароль должен содержать не менее 8 символов, не менее одной заглавной буквы,\n",
        "не менее одной строчной буквы и, опционально, символ.\n",
        "\n",
        "_\"Your password must have at least 8 characters, at least an upper case letter, an lowercase letter,\n",
        "a number and probably a symbol so you make sure you’ll never remember it in the future\"_"
      ]
    },
    {
      "cell_type": "code",
      "execution_count": 33,
      "metadata": {
        "colab": {
          "base_uri": "https://localhost:8080/"
        },
        "id": "LI3QUFB15qCl",
        "outputId": "bd6cb1d6-2163-4f6a-e048-184bb2d1af6a"
      },
      "outputs": [
        {
          "name": "stdout",
          "output_type": "stream",
          "text": [
            "Password must contain at least 8 characters\n",
            "Password must contain at least 8 characters\n",
            "Password must contain at least one uppercase character\n",
            "Password must contain at least one digit character\n",
            "Password must contain at least one lowercase character\n",
            "Your password is strong. Good job!\n"
          ]
        }
      ],
      "source": [
        "passwords = ['', '1', 'abcdefgh', 'abCdefgh', 'ABCDEFGH', 'ab3defGh']\n",
        "\n",
        "# Не менее 8 символов (тут не считаются знаки препинания)\n",
        "char_regex = re.compile(r'.{8,}') # Ваш код здесь\n",
        "\n",
        "# Не менее 1 маленькой буквы\n",
        "lower_regex = re.compile(r'[a-z]') # Ваш код здесь\n",
        "\n",
        "# Не менее 1 большой буквы\n",
        "upper_regex = re.compile(r'[A-Z]') # Ваш код здесь\n",
        "\n",
        "# Не менее 1 цифры\n",
        "digit_regex = re.compile(r'\\d') # Ваш код здесь\n",
        "\n",
        "# ПРОВЕРКА\n",
        "for password in passwords:\n",
        "  if char_regex.findall(password) == []:\n",
        "      print('Password must contain at least 8 characters')\n",
        "  elif lower_regex.findall(password)==[]:\n",
        "      print('Password must contain at least one lowercase character')\n",
        "  elif upper_regex.findall(password)==[]:\n",
        "      print('Password must contain at least one uppercase character')\n",
        "  elif digit_regex.findall(password)==[]:\n",
        "      print('Password must contain at least one digit character')\n",
        "  else:\n",
        "      print('Your password is strong. Good job!')"
      ]
    },
    {
      "cell_type": "code",
      "execution_count": null,
      "metadata": {},
      "outputs": [],
      "source": []
    }
  ],
  "metadata": {
    "colab": {
      "provenance": []
    },
    "kernelspec": {
      "display_name": "Python 3",
      "name": "python3"
    },
    "language_info": {
      "codemirror_mode": {
        "name": "ipython",
        "version": 3
      },
      "file_extension": ".py",
      "mimetype": "text/x-python",
      "name": "python",
      "nbconvert_exporter": "python",
      "pygments_lexer": "ipython3",
      "version": "3.10.9"
    }
  },
  "nbformat": 4,
  "nbformat_minor": 0
}
