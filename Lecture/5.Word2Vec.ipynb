{
  "nbformat": 4,
  "nbformat_minor": 0,
  "metadata": {
    "colab": {
      "provenance": []
    },
    "kernelspec": {
      "name": "python3",
      "display_name": "Python 3"
    },
    "language_info": {
      "name": "python"
    }
  },
  "cells": [
    {
      "cell_type": "markdown",
      "source": [
        "# Пример работы с Word2Vec\n",
        "### Подключаем жизненно необходимые библиотеки"
      ],
      "metadata": {
        "id": "IchlQWDaTQbE"
      }
    },
    {
      "cell_type": "code",
      "source": [
        "import multiprocessing\n",
        "import pandas as pd\n",
        "import string\n",
        "\n",
        "import warnings\n",
        "warnings.filterwarnings(\"ignore\")\n",
        "\n",
        "print(f'Количество доступных ядер: {multiprocessing.cpu_count()}')"
      ],
      "metadata": {
        "colab": {
          "base_uri": "https://localhost:8080/"
        },
        "id": "0KPZUM9wYmni",
        "outputId": "5f46e0a4-1a14-4523-9d53-924bd5150936"
      },
      "execution_count": null,
      "outputs": [
        {
          "output_type": "stream",
          "name": "stdout",
          "text": [
            "Количество доступных ядер: 2\n"
          ]
        }
      ]
    },
    {
      "cell_type": "markdown",
      "source": [
        "### Монтируем пространство на диске\n",
        "Можно скачать файл с данными отсюда - https://disk.yandex.ru/i/p7dh5dqPTpgvsg"
      ],
      "metadata": {
        "id": "l3DGSUzmYj-I"
      }
    },
    {
      "cell_type": "code",
      "source": [
        "from google.colab import drive\n",
        "drive.mount('/content/drive')"
      ],
      "metadata": {
        "colab": {
          "base_uri": "https://localhost:8080/"
        },
        "id": "j6XhJ9B_YE3o",
        "outputId": "056f200a-9f0a-4c89-f8f2-e2ac33e3b36e"
      },
      "execution_count": null,
      "outputs": [
        {
          "output_type": "stream",
          "name": "stdout",
          "text": [
            "Drive already mounted at /content/drive; to attempt to forcibly remount, call drive.mount(\"/content/drive\", force_remount=True).\n"
          ]
        }
      ]
    },
    {
      "cell_type": "markdown",
      "source": [
        "### Выгружаем датафрейм с репликами из Эпизодов Симпсонов"
      ],
      "metadata": {
        "id": "ihCYhyljYVTi"
      }
    },
    {
      "cell_type": "code",
      "source": [
        "path = '/content/drive/MyDrive/data/simpsons_dataset.csv'\n",
        "df = pd.read_csv(path)\n",
        "print(f'Размер датафрейма: {df.shape}')\n",
        "df.head()"
      ],
      "metadata": {
        "colab": {
          "base_uri": "https://localhost:8080/",
          "height": 223
        },
        "id": "NTIKdJDpYJ_A",
        "outputId": "3f9da002-66a2-4962-f7bb-b18c37b9d517"
      },
      "execution_count": null,
      "outputs": [
        {
          "output_type": "stream",
          "name": "stdout",
          "text": [
            "Размер датафрейма: (158314, 2)\n"
          ]
        },
        {
          "output_type": "execute_result",
          "data": {
            "text/plain": [
              "        raw_character_text                                       spoken_words\n",
              "0              Miss Hoover  No, actually, it was a little of both. Sometim...\n",
              "1             Lisa Simpson                             Where's Mr. Bergstrom?\n",
              "2              Miss Hoover  I don't know. Although I'd sure like to talk t...\n",
              "3             Lisa Simpson                         That life is worth living.\n",
              "4  Edna Krabappel-Flanders  The polls will be open from now until the end ..."
            ],
            "text/html": [
              "\n",
              "  <div id=\"df-578fd306-25e4-43b6-9feb-fb922b90a1e0\" class=\"colab-df-container\">\n",
              "    <div>\n",
              "<style scoped>\n",
              "    .dataframe tbody tr th:only-of-type {\n",
              "        vertical-align: middle;\n",
              "    }\n",
              "\n",
              "    .dataframe tbody tr th {\n",
              "        vertical-align: top;\n",
              "    }\n",
              "\n",
              "    .dataframe thead th {\n",
              "        text-align: right;\n",
              "    }\n",
              "</style>\n",
              "<table border=\"1\" class=\"dataframe\">\n",
              "  <thead>\n",
              "    <tr style=\"text-align: right;\">\n",
              "      <th></th>\n",
              "      <th>raw_character_text</th>\n",
              "      <th>spoken_words</th>\n",
              "    </tr>\n",
              "  </thead>\n",
              "  <tbody>\n",
              "    <tr>\n",
              "      <th>0</th>\n",
              "      <td>Miss Hoover</td>\n",
              "      <td>No, actually, it was a little of both. Sometim...</td>\n",
              "    </tr>\n",
              "    <tr>\n",
              "      <th>1</th>\n",
              "      <td>Lisa Simpson</td>\n",
              "      <td>Where's Mr. Bergstrom?</td>\n",
              "    </tr>\n",
              "    <tr>\n",
              "      <th>2</th>\n",
              "      <td>Miss Hoover</td>\n",
              "      <td>I don't know. Although I'd sure like to talk t...</td>\n",
              "    </tr>\n",
              "    <tr>\n",
              "      <th>3</th>\n",
              "      <td>Lisa Simpson</td>\n",
              "      <td>That life is worth living.</td>\n",
              "    </tr>\n",
              "    <tr>\n",
              "      <th>4</th>\n",
              "      <td>Edna Krabappel-Flanders</td>\n",
              "      <td>The polls will be open from now until the end ...</td>\n",
              "    </tr>\n",
              "  </tbody>\n",
              "</table>\n",
              "</div>\n",
              "    <div class=\"colab-df-buttons\">\n",
              "\n",
              "  <div class=\"colab-df-container\">\n",
              "    <button class=\"colab-df-convert\" onclick=\"convertToInteractive('df-578fd306-25e4-43b6-9feb-fb922b90a1e0')\"\n",
              "            title=\"Convert this dataframe to an interactive table.\"\n",
              "            style=\"display:none;\">\n",
              "\n",
              "  <svg xmlns=\"http://www.w3.org/2000/svg\" height=\"24px\" viewBox=\"0 -960 960 960\">\n",
              "    <path d=\"M120-120v-720h720v720H120Zm60-500h600v-160H180v160Zm220 220h160v-160H400v160Zm0 220h160v-160H400v160ZM180-400h160v-160H180v160Zm440 0h160v-160H620v160ZM180-180h160v-160H180v160Zm440 0h160v-160H620v160Z\"/>\n",
              "  </svg>\n",
              "    </button>\n",
              "\n",
              "  <style>\n",
              "    .colab-df-container {\n",
              "      display:flex;\n",
              "      gap: 12px;\n",
              "    }\n",
              "\n",
              "    .colab-df-convert {\n",
              "      background-color: #E8F0FE;\n",
              "      border: none;\n",
              "      border-radius: 50%;\n",
              "      cursor: pointer;\n",
              "      display: none;\n",
              "      fill: #1967D2;\n",
              "      height: 32px;\n",
              "      padding: 0 0 0 0;\n",
              "      width: 32px;\n",
              "    }\n",
              "\n",
              "    .colab-df-convert:hover {\n",
              "      background-color: #E2EBFA;\n",
              "      box-shadow: 0px 1px 2px rgba(60, 64, 67, 0.3), 0px 1px 3px 1px rgba(60, 64, 67, 0.15);\n",
              "      fill: #174EA6;\n",
              "    }\n",
              "\n",
              "    .colab-df-buttons div {\n",
              "      margin-bottom: 4px;\n",
              "    }\n",
              "\n",
              "    [theme=dark] .colab-df-convert {\n",
              "      background-color: #3B4455;\n",
              "      fill: #D2E3FC;\n",
              "    }\n",
              "\n",
              "    [theme=dark] .colab-df-convert:hover {\n",
              "      background-color: #434B5C;\n",
              "      box-shadow: 0px 1px 3px 1px rgba(0, 0, 0, 0.15);\n",
              "      filter: drop-shadow(0px 1px 2px rgba(0, 0, 0, 0.3));\n",
              "      fill: #FFFFFF;\n",
              "    }\n",
              "  </style>\n",
              "\n",
              "    <script>\n",
              "      const buttonEl =\n",
              "        document.querySelector('#df-578fd306-25e4-43b6-9feb-fb922b90a1e0 button.colab-df-convert');\n",
              "      buttonEl.style.display =\n",
              "        google.colab.kernel.accessAllowed ? 'block' : 'none';\n",
              "\n",
              "      async function convertToInteractive(key) {\n",
              "        const element = document.querySelector('#df-578fd306-25e4-43b6-9feb-fb922b90a1e0');\n",
              "        const dataTable =\n",
              "          await google.colab.kernel.invokeFunction('convertToInteractive',\n",
              "                                                    [key], {});\n",
              "        if (!dataTable) return;\n",
              "\n",
              "        const docLinkHtml = 'Like what you see? Visit the ' +\n",
              "          '<a target=\"_blank\" href=https://colab.research.google.com/notebooks/data_table.ipynb>data table notebook</a>'\n",
              "          + ' to learn more about interactive tables.';\n",
              "        element.innerHTML = '';\n",
              "        dataTable['output_type'] = 'display_data';\n",
              "        await google.colab.output.renderOutput(dataTable, element);\n",
              "        const docLink = document.createElement('div');\n",
              "        docLink.innerHTML = docLinkHtml;\n",
              "        element.appendChild(docLink);\n",
              "      }\n",
              "    </script>\n",
              "  </div>\n",
              "\n",
              "\n",
              "<div id=\"df-faaae143-bfe7-440a-9977-f5977c39a9bb\">\n",
              "  <button class=\"colab-df-quickchart\" onclick=\"quickchart('df-faaae143-bfe7-440a-9977-f5977c39a9bb')\"\n",
              "            title=\"Suggest charts.\"\n",
              "            style=\"display:none;\">\n",
              "\n",
              "<svg xmlns=\"http://www.w3.org/2000/svg\" height=\"24px\"viewBox=\"0 0 24 24\"\n",
              "     width=\"24px\">\n",
              "    <g>\n",
              "        <path d=\"M19 3H5c-1.1 0-2 .9-2 2v14c0 1.1.9 2 2 2h14c1.1 0 2-.9 2-2V5c0-1.1-.9-2-2-2zM9 17H7v-7h2v7zm4 0h-2V7h2v10zm4 0h-2v-4h2v4z\"/>\n",
              "    </g>\n",
              "</svg>\n",
              "  </button>\n",
              "\n",
              "<style>\n",
              "  .colab-df-quickchart {\n",
              "      --bg-color: #E8F0FE;\n",
              "      --fill-color: #1967D2;\n",
              "      --hover-bg-color: #E2EBFA;\n",
              "      --hover-fill-color: #174EA6;\n",
              "      --disabled-fill-color: #AAA;\n",
              "      --disabled-bg-color: #DDD;\n",
              "  }\n",
              "\n",
              "  [theme=dark] .colab-df-quickchart {\n",
              "      --bg-color: #3B4455;\n",
              "      --fill-color: #D2E3FC;\n",
              "      --hover-bg-color: #434B5C;\n",
              "      --hover-fill-color: #FFFFFF;\n",
              "      --disabled-bg-color: #3B4455;\n",
              "      --disabled-fill-color: #666;\n",
              "  }\n",
              "\n",
              "  .colab-df-quickchart {\n",
              "    background-color: var(--bg-color);\n",
              "    border: none;\n",
              "    border-radius: 50%;\n",
              "    cursor: pointer;\n",
              "    display: none;\n",
              "    fill: var(--fill-color);\n",
              "    height: 32px;\n",
              "    padding: 0;\n",
              "    width: 32px;\n",
              "  }\n",
              "\n",
              "  .colab-df-quickchart:hover {\n",
              "    background-color: var(--hover-bg-color);\n",
              "    box-shadow: 0 1px 2px rgba(60, 64, 67, 0.3), 0 1px 3px 1px rgba(60, 64, 67, 0.15);\n",
              "    fill: var(--button-hover-fill-color);\n",
              "  }\n",
              "\n",
              "  .colab-df-quickchart-complete:disabled,\n",
              "  .colab-df-quickchart-complete:disabled:hover {\n",
              "    background-color: var(--disabled-bg-color);\n",
              "    fill: var(--disabled-fill-color);\n",
              "    box-shadow: none;\n",
              "  }\n",
              "\n",
              "  .colab-df-spinner {\n",
              "    border: 2px solid var(--fill-color);\n",
              "    border-color: transparent;\n",
              "    border-bottom-color: var(--fill-color);\n",
              "    animation:\n",
              "      spin 1s steps(1) infinite;\n",
              "  }\n",
              "\n",
              "  @keyframes spin {\n",
              "    0% {\n",
              "      border-color: transparent;\n",
              "      border-bottom-color: var(--fill-color);\n",
              "      border-left-color: var(--fill-color);\n",
              "    }\n",
              "    20% {\n",
              "      border-color: transparent;\n",
              "      border-left-color: var(--fill-color);\n",
              "      border-top-color: var(--fill-color);\n",
              "    }\n",
              "    30% {\n",
              "      border-color: transparent;\n",
              "      border-left-color: var(--fill-color);\n",
              "      border-top-color: var(--fill-color);\n",
              "      border-right-color: var(--fill-color);\n",
              "    }\n",
              "    40% {\n",
              "      border-color: transparent;\n",
              "      border-right-color: var(--fill-color);\n",
              "      border-top-color: var(--fill-color);\n",
              "    }\n",
              "    60% {\n",
              "      border-color: transparent;\n",
              "      border-right-color: var(--fill-color);\n",
              "    }\n",
              "    80% {\n",
              "      border-color: transparent;\n",
              "      border-right-color: var(--fill-color);\n",
              "      border-bottom-color: var(--fill-color);\n",
              "    }\n",
              "    90% {\n",
              "      border-color: transparent;\n",
              "      border-bottom-color: var(--fill-color);\n",
              "    }\n",
              "  }\n",
              "</style>\n",
              "\n",
              "  <script>\n",
              "    async function quickchart(key) {\n",
              "      const quickchartButtonEl =\n",
              "        document.querySelector('#' + key + ' button');\n",
              "      quickchartButtonEl.disabled = true;  // To prevent multiple clicks.\n",
              "      quickchartButtonEl.classList.add('colab-df-spinner');\n",
              "      try {\n",
              "        const charts = await google.colab.kernel.invokeFunction(\n",
              "            'suggestCharts', [key], {});\n",
              "      } catch (error) {\n",
              "        console.error('Error during call to suggestCharts:', error);\n",
              "      }\n",
              "      quickchartButtonEl.classList.remove('colab-df-spinner');\n",
              "      quickchartButtonEl.classList.add('colab-df-quickchart-complete');\n",
              "    }\n",
              "    (() => {\n",
              "      let quickchartButtonEl =\n",
              "        document.querySelector('#df-faaae143-bfe7-440a-9977-f5977c39a9bb button');\n",
              "      quickchartButtonEl.style.display =\n",
              "        google.colab.kernel.accessAllowed ? 'block' : 'none';\n",
              "    })();\n",
              "  </script>\n",
              "</div>\n",
              "    </div>\n",
              "  </div>\n"
            ]
          },
          "metadata": {},
          "execution_count": 3
        }
      ]
    },
    {
      "cell_type": "markdown",
      "source": [
        "Обрабатываем пропущенные значения"
      ],
      "metadata": {
        "id": "WyKy_rZKZCoX"
      }
    },
    {
      "cell_type": "code",
      "source": [
        "df.isnull().sum()"
      ],
      "metadata": {
        "colab": {
          "base_uri": "https://localhost:8080/"
        },
        "id": "fyjtFhTFYyfO",
        "outputId": "a3857309-935c-4492-a4b5-8f7fcadc474a"
      },
      "execution_count": null,
      "outputs": [
        {
          "output_type": "execute_result",
          "data": {
            "text/plain": [
              "raw_character_text    17814\n",
              "spoken_words          26459\n",
              "dtype: int64"
            ]
          },
          "metadata": {},
          "execution_count": 6
        }
      ]
    },
    {
      "cell_type": "code",
      "source": [
        "old_len = df.shape[0]\n",
        "df = df.dropna().reset_index(drop=True)\n",
        "new_len = df.shape[0]\n",
        "print(f'Размер датафрейма после удаления пропусков: {df.shape}')\n",
        "print(f'Удалили {round(100 * (old_len - new_len) / old_len, 2)}% данных')"
      ],
      "metadata": {
        "colab": {
          "base_uri": "https://localhost:8080/"
        },
        "id": "S7mFos38Yykr",
        "outputId": "31548d57-a7a9-427f-ec6e-8ad03ebf49c8"
      },
      "execution_count": null,
      "outputs": [
        {
          "output_type": "stream",
          "name": "stdout",
          "text": [
            "Размер датафрейма после удаления пропусков: (131853, 2)\n",
            "Удалили 16.71% данных\n"
          ]
        }
      ]
    },
    {
      "cell_type": "markdown",
      "source": [
        "Предобработка текстов"
      ],
      "metadata": {
        "id": "bQBX0L2HZ5do"
      }
    },
    {
      "cell_type": "code",
      "source": [
        "import nltk\n",
        "\n",
        "nltk.download('stopwords')\n",
        "nltk.download('wordnet')\n",
        "nltk.download('punkt')\n",
        "\n",
        "from nltk.corpus import stopwords\n",
        "from nltk.tokenize import word_tokenize\n",
        "from nltk.stem import WordNetLemmatizer\n",
        "from nltk.stem.porter import PorterStemmer\n",
        "\n",
        "stopwords = list(stopwords.words(\"english\"))"
      ],
      "metadata": {
        "colab": {
          "base_uri": "https://localhost:8080/"
        },
        "id": "8qq7YHbiYynP",
        "outputId": "53e5e4fe-69f5-45cf-9f3e-fd58be24abc7"
      },
      "execution_count": null,
      "outputs": [
        {
          "output_type": "stream",
          "name": "stderr",
          "text": [
            "[nltk_data] Downloading package stopwords to /root/nltk_data...\n",
            "[nltk_data]   Unzipping corpora/stopwords.zip.\n",
            "[nltk_data] Downloading package wordnet to /root/nltk_data...\n",
            "[nltk_data] Downloading package punkt to /root/nltk_data...\n",
            "[nltk_data]   Unzipping tokenizers/punkt.zip.\n"
          ]
        }
      ]
    },
    {
      "cell_type": "code",
      "source": [
        "stopwords[:10]"
      ],
      "metadata": {
        "colab": {
          "base_uri": "https://localhost:8080/"
        },
        "id": "0ChtCIr0YyqV",
        "outputId": "6c9af303-c2c1-4732-c2ff-50d7b6642b8a"
      },
      "execution_count": null,
      "outputs": [
        {
          "output_type": "execute_result",
          "data": {
            "text/plain": [
              "['i', 'me', 'my', 'myself', 'we', 'our', 'ours', 'ourselves', 'you', \"you're\"]"
            ]
          },
          "metadata": {},
          "execution_count": 9
        }
      ]
    },
    {
      "cell_type": "code",
      "source": [
        "def preprocess_text(text):\n",
        "  tokens = word_tokenize(text)\n",
        "  lemmatizer = WordNetLemmatizer()\n",
        "  stemmer = PorterStemmer()\n",
        "  words = [lemmatizer.lemmatize(t.lower()) for t in tokens if\n",
        "           # удаляем пунктуацию\n",
        "            (t not in string.punctuation) &\n",
        "           # удаляем стоп-слова\n",
        "            (t.lower() not in stopwords) &\n",
        "           # удаляем числа\n",
        "            (not t.isdigit()) &\n",
        "           # удаляем токены по типу 's\n",
        "            t.isalpha()\n",
        "          ]\n",
        "  text = ' '.join(words)\n",
        "\n",
        "  return text"
      ],
      "metadata": {
        "id": "baJuT8RsV8UP"
      },
      "execution_count": null,
      "outputs": []
    },
    {
      "cell_type": "markdown",
      "source": [
        "Небольшая проверочка"
      ],
      "metadata": {
        "id": "IYTZdMSYgYg4"
      }
    },
    {
      "cell_type": "code",
      "source": [
        "text = \"Hey, did you know that the summer break is coming? Amazing right !! It's only 555 more days !!\"\n",
        "preprocess_text(text)"
      ],
      "metadata": {
        "colab": {
          "base_uri": "https://localhost:8080/",
          "height": 36
        },
        "id": "IauiW55VbyNJ",
        "outputId": "73e70a61-89fc-4992-f37c-af5eb0054722"
      },
      "execution_count": null,
      "outputs": [
        {
          "output_type": "execute_result",
          "data": {
            "text/plain": [
              "'hey know summer break coming amazing right day'"
            ],
            "application/vnd.google.colaboratory.intrinsic+json": {
              "type": "string"
            }
          },
          "metadata": {},
          "execution_count": 11
        }
      ]
    },
    {
      "cell_type": "markdown",
      "source": [
        "Предобрабатываем наш датасет"
      ],
      "metadata": {
        "id": "hghvlmQVgdho"
      }
    },
    {
      "cell_type": "code",
      "source": [
        "%%time\n",
        "df['text'] = df['spoken_words'].apply(lambda x: preprocess_text(x))"
      ],
      "metadata": {
        "colab": {
          "base_uri": "https://localhost:8080/"
        },
        "id": "SE64ntNRbyP6",
        "outputId": "836b08b7-2f7c-4a67-e15f-244ecc6a9016"
      },
      "execution_count": null,
      "outputs": [
        {
          "output_type": "stream",
          "name": "stdout",
          "text": [
            "CPU times: user 38.6 s, sys: 0 ns, total: 38.6 s\n",
            "Wall time: 43.8 s\n"
          ]
        }
      ]
    },
    {
      "cell_type": "code",
      "source": [
        "df.head()"
      ],
      "metadata": {
        "colab": {
          "base_uri": "https://localhost:8080/",
          "height": 206
        },
        "id": "VkNUoAVlbyWK",
        "outputId": "c04d1748-bd5b-4898-fd41-7730352a053d"
      },
      "execution_count": null,
      "outputs": [
        {
          "output_type": "execute_result",
          "data": {
            "text/plain": [
              "        raw_character_text                                       spoken_words  \\\n",
              "0              Miss Hoover  No, actually, it was a little of both. Sometim...   \n",
              "1             Lisa Simpson                             Where's Mr. Bergstrom?   \n",
              "2              Miss Hoover  I don't know. Although I'd sure like to talk t...   \n",
              "3             Lisa Simpson                         That life is worth living.   \n",
              "4  Edna Krabappel-Flanders  The polls will be open from now until the end ...   \n",
              "\n",
              "                                                text  \n",
              "0  actually little sometimes disease magazine new...  \n",
              "1                                          bergstrom  \n",
              "2  know although sure like talk touch lesson plan...  \n",
              "3                                  life worth living  \n",
              "4  poll open end recess case decided put thought ...  "
            ],
            "text/html": [
              "\n",
              "  <div id=\"df-abc2e688-3a66-4033-8aa0-5f33ed86261b\" class=\"colab-df-container\">\n",
              "    <div>\n",
              "<style scoped>\n",
              "    .dataframe tbody tr th:only-of-type {\n",
              "        vertical-align: middle;\n",
              "    }\n",
              "\n",
              "    .dataframe tbody tr th {\n",
              "        vertical-align: top;\n",
              "    }\n",
              "\n",
              "    .dataframe thead th {\n",
              "        text-align: right;\n",
              "    }\n",
              "</style>\n",
              "<table border=\"1\" class=\"dataframe\">\n",
              "  <thead>\n",
              "    <tr style=\"text-align: right;\">\n",
              "      <th></th>\n",
              "      <th>raw_character_text</th>\n",
              "      <th>spoken_words</th>\n",
              "      <th>text</th>\n",
              "    </tr>\n",
              "  </thead>\n",
              "  <tbody>\n",
              "    <tr>\n",
              "      <th>0</th>\n",
              "      <td>Miss Hoover</td>\n",
              "      <td>No, actually, it was a little of both. Sometim...</td>\n",
              "      <td>actually little sometimes disease magazine new...</td>\n",
              "    </tr>\n",
              "    <tr>\n",
              "      <th>1</th>\n",
              "      <td>Lisa Simpson</td>\n",
              "      <td>Where's Mr. Bergstrom?</td>\n",
              "      <td>bergstrom</td>\n",
              "    </tr>\n",
              "    <tr>\n",
              "      <th>2</th>\n",
              "      <td>Miss Hoover</td>\n",
              "      <td>I don't know. Although I'd sure like to talk t...</td>\n",
              "      <td>know although sure like talk touch lesson plan...</td>\n",
              "    </tr>\n",
              "    <tr>\n",
              "      <th>3</th>\n",
              "      <td>Lisa Simpson</td>\n",
              "      <td>That life is worth living.</td>\n",
              "      <td>life worth living</td>\n",
              "    </tr>\n",
              "    <tr>\n",
              "      <th>4</th>\n",
              "      <td>Edna Krabappel-Flanders</td>\n",
              "      <td>The polls will be open from now until the end ...</td>\n",
              "      <td>poll open end recess case decided put thought ...</td>\n",
              "    </tr>\n",
              "  </tbody>\n",
              "</table>\n",
              "</div>\n",
              "    <div class=\"colab-df-buttons\">\n",
              "\n",
              "  <div class=\"colab-df-container\">\n",
              "    <button class=\"colab-df-convert\" onclick=\"convertToInteractive('df-abc2e688-3a66-4033-8aa0-5f33ed86261b')\"\n",
              "            title=\"Convert this dataframe to an interactive table.\"\n",
              "            style=\"display:none;\">\n",
              "\n",
              "  <svg xmlns=\"http://www.w3.org/2000/svg\" height=\"24px\" viewBox=\"0 -960 960 960\">\n",
              "    <path d=\"M120-120v-720h720v720H120Zm60-500h600v-160H180v160Zm220 220h160v-160H400v160Zm0 220h160v-160H400v160ZM180-400h160v-160H180v160Zm440 0h160v-160H620v160ZM180-180h160v-160H180v160Zm440 0h160v-160H620v160Z\"/>\n",
              "  </svg>\n",
              "    </button>\n",
              "\n",
              "  <style>\n",
              "    .colab-df-container {\n",
              "      display:flex;\n",
              "      gap: 12px;\n",
              "    }\n",
              "\n",
              "    .colab-df-convert {\n",
              "      background-color: #E8F0FE;\n",
              "      border: none;\n",
              "      border-radius: 50%;\n",
              "      cursor: pointer;\n",
              "      display: none;\n",
              "      fill: #1967D2;\n",
              "      height: 32px;\n",
              "      padding: 0 0 0 0;\n",
              "      width: 32px;\n",
              "    }\n",
              "\n",
              "    .colab-df-convert:hover {\n",
              "      background-color: #E2EBFA;\n",
              "      box-shadow: 0px 1px 2px rgba(60, 64, 67, 0.3), 0px 1px 3px 1px rgba(60, 64, 67, 0.15);\n",
              "      fill: #174EA6;\n",
              "    }\n",
              "\n",
              "    .colab-df-buttons div {\n",
              "      margin-bottom: 4px;\n",
              "    }\n",
              "\n",
              "    [theme=dark] .colab-df-convert {\n",
              "      background-color: #3B4455;\n",
              "      fill: #D2E3FC;\n",
              "    }\n",
              "\n",
              "    [theme=dark] .colab-df-convert:hover {\n",
              "      background-color: #434B5C;\n",
              "      box-shadow: 0px 1px 3px 1px rgba(0, 0, 0, 0.15);\n",
              "      filter: drop-shadow(0px 1px 2px rgba(0, 0, 0, 0.3));\n",
              "      fill: #FFFFFF;\n",
              "    }\n",
              "  </style>\n",
              "\n",
              "    <script>\n",
              "      const buttonEl =\n",
              "        document.querySelector('#df-abc2e688-3a66-4033-8aa0-5f33ed86261b button.colab-df-convert');\n",
              "      buttonEl.style.display =\n",
              "        google.colab.kernel.accessAllowed ? 'block' : 'none';\n",
              "\n",
              "      async function convertToInteractive(key) {\n",
              "        const element = document.querySelector('#df-abc2e688-3a66-4033-8aa0-5f33ed86261b');\n",
              "        const dataTable =\n",
              "          await google.colab.kernel.invokeFunction('convertToInteractive',\n",
              "                                                    [key], {});\n",
              "        if (!dataTable) return;\n",
              "\n",
              "        const docLinkHtml = 'Like what you see? Visit the ' +\n",
              "          '<a target=\"_blank\" href=https://colab.research.google.com/notebooks/data_table.ipynb>data table notebook</a>'\n",
              "          + ' to learn more about interactive tables.';\n",
              "        element.innerHTML = '';\n",
              "        dataTable['output_type'] = 'display_data';\n",
              "        await google.colab.output.renderOutput(dataTable, element);\n",
              "        const docLink = document.createElement('div');\n",
              "        docLink.innerHTML = docLinkHtml;\n",
              "        element.appendChild(docLink);\n",
              "      }\n",
              "    </script>\n",
              "  </div>\n",
              "\n",
              "\n",
              "<div id=\"df-7af5a7a7-c6d9-4a0f-9c55-5c0153107bd4\">\n",
              "  <button class=\"colab-df-quickchart\" onclick=\"quickchart('df-7af5a7a7-c6d9-4a0f-9c55-5c0153107bd4')\"\n",
              "            title=\"Suggest charts.\"\n",
              "            style=\"display:none;\">\n",
              "\n",
              "<svg xmlns=\"http://www.w3.org/2000/svg\" height=\"24px\"viewBox=\"0 0 24 24\"\n",
              "     width=\"24px\">\n",
              "    <g>\n",
              "        <path d=\"M19 3H5c-1.1 0-2 .9-2 2v14c0 1.1.9 2 2 2h14c1.1 0 2-.9 2-2V5c0-1.1-.9-2-2-2zM9 17H7v-7h2v7zm4 0h-2V7h2v10zm4 0h-2v-4h2v4z\"/>\n",
              "    </g>\n",
              "</svg>\n",
              "  </button>\n",
              "\n",
              "<style>\n",
              "  .colab-df-quickchart {\n",
              "      --bg-color: #E8F0FE;\n",
              "      --fill-color: #1967D2;\n",
              "      --hover-bg-color: #E2EBFA;\n",
              "      --hover-fill-color: #174EA6;\n",
              "      --disabled-fill-color: #AAA;\n",
              "      --disabled-bg-color: #DDD;\n",
              "  }\n",
              "\n",
              "  [theme=dark] .colab-df-quickchart {\n",
              "      --bg-color: #3B4455;\n",
              "      --fill-color: #D2E3FC;\n",
              "      --hover-bg-color: #434B5C;\n",
              "      --hover-fill-color: #FFFFFF;\n",
              "      --disabled-bg-color: #3B4455;\n",
              "      --disabled-fill-color: #666;\n",
              "  }\n",
              "\n",
              "  .colab-df-quickchart {\n",
              "    background-color: var(--bg-color);\n",
              "    border: none;\n",
              "    border-radius: 50%;\n",
              "    cursor: pointer;\n",
              "    display: none;\n",
              "    fill: var(--fill-color);\n",
              "    height: 32px;\n",
              "    padding: 0;\n",
              "    width: 32px;\n",
              "  }\n",
              "\n",
              "  .colab-df-quickchart:hover {\n",
              "    background-color: var(--hover-bg-color);\n",
              "    box-shadow: 0 1px 2px rgba(60, 64, 67, 0.3), 0 1px 3px 1px rgba(60, 64, 67, 0.15);\n",
              "    fill: var(--button-hover-fill-color);\n",
              "  }\n",
              "\n",
              "  .colab-df-quickchart-complete:disabled,\n",
              "  .colab-df-quickchart-complete:disabled:hover {\n",
              "    background-color: var(--disabled-bg-color);\n",
              "    fill: var(--disabled-fill-color);\n",
              "    box-shadow: none;\n",
              "  }\n",
              "\n",
              "  .colab-df-spinner {\n",
              "    border: 2px solid var(--fill-color);\n",
              "    border-color: transparent;\n",
              "    border-bottom-color: var(--fill-color);\n",
              "    animation:\n",
              "      spin 1s steps(1) infinite;\n",
              "  }\n",
              "\n",
              "  @keyframes spin {\n",
              "    0% {\n",
              "      border-color: transparent;\n",
              "      border-bottom-color: var(--fill-color);\n",
              "      border-left-color: var(--fill-color);\n",
              "    }\n",
              "    20% {\n",
              "      border-color: transparent;\n",
              "      border-left-color: var(--fill-color);\n",
              "      border-top-color: var(--fill-color);\n",
              "    }\n",
              "    30% {\n",
              "      border-color: transparent;\n",
              "      border-left-color: var(--fill-color);\n",
              "      border-top-color: var(--fill-color);\n",
              "      border-right-color: var(--fill-color);\n",
              "    }\n",
              "    40% {\n",
              "      border-color: transparent;\n",
              "      border-right-color: var(--fill-color);\n",
              "      border-top-color: var(--fill-color);\n",
              "    }\n",
              "    60% {\n",
              "      border-color: transparent;\n",
              "      border-right-color: var(--fill-color);\n",
              "    }\n",
              "    80% {\n",
              "      border-color: transparent;\n",
              "      border-right-color: var(--fill-color);\n",
              "      border-bottom-color: var(--fill-color);\n",
              "    }\n",
              "    90% {\n",
              "      border-color: transparent;\n",
              "      border-bottom-color: var(--fill-color);\n",
              "    }\n",
              "  }\n",
              "</style>\n",
              "\n",
              "  <script>\n",
              "    async function quickchart(key) {\n",
              "      const quickchartButtonEl =\n",
              "        document.querySelector('#' + key + ' button');\n",
              "      quickchartButtonEl.disabled = true;  // To prevent multiple clicks.\n",
              "      quickchartButtonEl.classList.add('colab-df-spinner');\n",
              "      try {\n",
              "        const charts = await google.colab.kernel.invokeFunction(\n",
              "            'suggestCharts', [key], {});\n",
              "      } catch (error) {\n",
              "        console.error('Error during call to suggestCharts:', error);\n",
              "      }\n",
              "      quickchartButtonEl.classList.remove('colab-df-spinner');\n",
              "      quickchartButtonEl.classList.add('colab-df-quickchart-complete');\n",
              "    }\n",
              "    (() => {\n",
              "      let quickchartButtonEl =\n",
              "        document.querySelector('#df-7af5a7a7-c6d9-4a0f-9c55-5c0153107bd4 button');\n",
              "      quickchartButtonEl.style.display =\n",
              "        google.colab.kernel.accessAllowed ? 'block' : 'none';\n",
              "    })();\n",
              "  </script>\n",
              "</div>\n",
              "    </div>\n",
              "  </div>\n"
            ]
          },
          "metadata": {},
          "execution_count": 13
        }
      ]
    },
    {
      "cell_type": "code",
      "source": [
        "df = df.dropna().drop_duplicates()\n",
        "df.shape"
      ],
      "metadata": {
        "colab": {
          "base_uri": "https://localhost:8080/"
        },
        "id": "hfEx7IWJlw6V",
        "outputId": "124a5d92-c812-4235-b65e-7601f43d9521"
      },
      "execution_count": null,
      "outputs": [
        {
          "output_type": "execute_result",
          "data": {
            "text/plain": [
              "(126646, 3)"
            ]
          },
          "metadata": {},
          "execution_count": 14
        }
      ]
    },
    {
      "cell_type": "code",
      "source": [
        "%%time\n",
        "df['text'] = df['text'].apply(lambda x: word_tokenize(x))\n",
        "sentences = list(df.text.values)\n",
        "print(sentences[2])"
      ],
      "metadata": {
        "colab": {
          "base_uri": "https://localhost:8080/"
        },
        "id": "EuBnl9JKl1xq",
        "outputId": "3a693e78-2806-47c8-beaf-4fff9ca70863"
      },
      "execution_count": null,
      "outputs": [
        {
          "output_type": "stream",
          "name": "stdout",
          "text": [
            "['know', 'although', 'sure', 'like', 'talk', 'touch', 'lesson', 'plan', 'teach']\n",
            "CPU times: user 13.3 s, sys: 65.2 ms, total: 13.3 s\n",
            "Wall time: 13.7 s\n"
          ]
        }
      ]
    },
    {
      "cell_type": "markdown",
      "source": [
        "Обучаем модель"
      ],
      "metadata": {
        "id": "ezy38Le7glw6"
      }
    },
    {
      "cell_type": "code",
      "source": [
        "from gensim.models import Word2Vec"
      ],
      "metadata": {
        "id": "1H__TScEcwdE"
      },
      "execution_count": null,
      "outputs": []
    },
    {
      "cell_type": "markdown",
      "source": [
        "- min_count [int] - пропускает все слова с частотой меньше, чем min_count - (2, 100)\n",
        "\n",
        "- window [int] - размер окна (на самом деле, половина того окна, про которое мы говорили на лекции) - (2, 10)\n",
        "\n",
        "- vector_size [int] - размер итоговых векторов - (50, 300)\n",
        "\n",
        "- alpha [float] - learning rate - (0.01, 0.05)\n",
        "\n",
        "- min_alpha [float] - минимальный learning rate\n",
        "\n",
        "- workers [int] - количество параллельно работающих процессов (для ускорения вычислений)"
      ],
      "metadata": {
        "id": "QHZoOB0chUwD"
      }
    },
    {
      "cell_type": "code",
      "source": [
        "w2v_model = Word2Vec(\n",
        "    # sentences,\n",
        "    min_count=20,\n",
        "    window=2,\n",
        "    vector_size=300,\n",
        "    alpha=0.03,\n",
        "    min_alpha=0.0007,\n",
        "    workers=1\n",
        ")"
      ],
      "metadata": {
        "id": "N_kPYcemgnSM"
      },
      "execution_count": null,
      "outputs": []
    },
    {
      "cell_type": "code",
      "source": [
        "# Формируем словарь\n",
        "w2v_model.build_vocab(sentences, progress_per=10000)"
      ],
      "metadata": {
        "id": "KltlTZEpo5Da"
      },
      "execution_count": null,
      "outputs": []
    },
    {
      "cell_type": "code",
      "source": [
        "# Обучаем модель\n",
        "w2v_model.train(sentences, total_examples=w2v_model.corpus_count, epochs=30, report_delay=1)"
      ],
      "metadata": {
        "colab": {
          "base_uri": "https://localhost:8080/"
        },
        "id": "9JO_sMEYo9G7",
        "outputId": "49303f75-f61f-4cb4-c8e4-49df1189fd70"
      },
      "execution_count": null,
      "outputs": [
        {
          "output_type": "execute_result",
          "data": {
            "text/plain": [
              "(15061327, 19755390)"
            ]
          },
          "metadata": {},
          "execution_count": 19
        }
      ]
    },
    {
      "cell_type": "code",
      "source": [
        "# Заранее считаем необходимые нормы для векторов\n",
        "w2v_model.init_sims(replace=True)"
      ],
      "metadata": {
        "colab": {
          "base_uri": "https://localhost:8080/"
        },
        "id": "6BwcIG_6kRAw",
        "outputId": "c4aa30c1-34b4-4b5f-b7d6-fbdfa9874985"
      },
      "execution_count": null,
      "outputs": [
        {
          "output_type": "stream",
          "name": "stderr",
          "text": [
            "WARNING:gensim.models.keyedvectors:destructive init_sims(replace=True) deprecated & no longer required for space-efficiency\n"
          ]
        }
      ]
    },
    {
      "cell_type": "code",
      "source": [
        "# Выводим слова, наиболее близкие для слова 'homer'\n",
        "w2v_model.wv.most_similar(positive=[\"homer\"])"
      ],
      "metadata": {
        "colab": {
          "base_uri": "https://localhost:8080/"
        },
        "id": "IxsaN_8HjfUU",
        "outputId": "d397a2b8-2207-464e-996c-30bd82385430"
      },
      "execution_count": null,
      "outputs": [
        {
          "output_type": "execute_result",
          "data": {
            "text/plain": [
              "[('marge', 0.39764314889907837),\n",
              " ('abe', 0.35008978843688965),\n",
              " ('grampa', 0.29283607006073),\n",
              " ('bart', 0.28129926323890686),\n",
              " ('dad', 0.2791822552680969),\n",
              " ('homie', 0.2543313503265381),\n",
              " ('abraham', 0.2508898973464966),\n",
              " ('manjula', 0.24701429903507233),\n",
              " ('father', 0.24498704075813293),\n",
              " ('family', 0.24297502636909485)]"
            ]
          },
          "metadata": {},
          "execution_count": 21
        }
      ]
    },
    {
      "cell_type": "code",
      "source": [
        "# Выводим слова, наиболее близкие для слова 'marge'\n",
        "w2v_model.wv.most_similar(positive=[\"marge\"])"
      ],
      "metadata": {
        "colab": {
          "base_uri": "https://localhost:8080/"
        },
        "id": "MPyZj-XImcwV",
        "outputId": "97c0ac71-03f3-43da-bf09-bb0f58910b97"
      },
      "execution_count": null,
      "outputs": [
        {
          "output_type": "execute_result",
          "data": {
            "text/plain": [
              "[('homer', 0.39764314889907837),\n",
              " ('abe', 0.3615567982196808),\n",
              " ('homie', 0.3255634903907776),\n",
              " ('wife', 0.2842337489128113),\n",
              " ('lisa', 0.2675529718399048),\n",
              " ('mom', 0.267157644033432),\n",
              " ('honey', 0.26713863015174866),\n",
              " ('well', 0.26193228363990784),\n",
              " ('friend', 0.2562215328216553),\n",
              " ('husband', 0.24734503030776978)]"
            ]
          },
          "metadata": {},
          "execution_count": 22
        }
      ]
    },
    {
      "cell_type": "code",
      "source": [
        "# Можно получить вектор конкретного слова\n",
        "w2v_model.wv['homer']"
      ],
      "metadata": {
        "colab": {
          "base_uri": "https://localhost:8080/"
        },
        "id": "kRJWo2Run-0P",
        "outputId": "dd789dca-bbb9-4d4f-db4d-e04c56673e1c"
      },
      "execution_count": null,
      "outputs": [
        {
          "output_type": "execute_result",
          "data": {
            "text/plain": [
              "array([-3.68769988e-02, -1.27588194e-02, -6.59117922e-02, -3.11804675e-02,\n",
              "       -3.45859677e-02, -6.58166781e-02, -1.16249286e-02,  2.57932134e-02,\n",
              "       -8.79899785e-02, -2.64415741e-02, -2.13064011e-02, -8.12479109e-02,\n",
              "        6.47679344e-02,  9.41037573e-03, -2.75572296e-02, -2.52893139e-02,\n",
              "       -7.32629597e-02, -1.47270886e-02, -2.38078032e-02,  3.09058353e-02,\n",
              "       -5.52019700e-02,  1.62897588e-04,  4.45527919e-02,  3.05578634e-02,\n",
              "        1.03650736e-02, -3.95701863e-02,  8.51156861e-02, -7.22831860e-02,\n",
              "       -7.64994649e-03, -3.60441729e-02,  3.51095758e-02,  5.90812713e-02,\n",
              "        8.20636898e-02, -1.92957930e-02, -9.68149602e-02,  5.46132922e-02,\n",
              "        3.48682627e-02, -7.87881017e-02, -5.00516361e-03, -7.64988065e-02,\n",
              "       -2.87024323e-02, -9.89771113e-02,  2.69606877e-02, -6.80530490e-03,\n",
              "       -5.47498204e-02, -7.57537633e-02,  2.72312779e-02, -5.49089387e-02,\n",
              "        3.75619493e-02,  3.80950384e-02,  1.76577359e-01,  8.09073374e-02,\n",
              "        1.72003843e-02, -1.07063809e-02, -4.20669019e-02, -3.71393077e-02,\n",
              "        6.30504340e-02,  3.00297048e-02,  7.39957765e-02,  2.68202014e-02,\n",
              "        5.50447628e-02,  2.83331536e-02, -9.08676386e-02,  1.18953688e-02,\n",
              "        4.57989197e-04,  9.88914669e-02, -5.45456335e-02, -2.66191103e-02,\n",
              "       -4.70773363e-03, -2.67482586e-02,  4.40436974e-02, -5.17788082e-02,\n",
              "       -4.32499833e-02, -3.31907086e-02,  7.80850649e-02,  1.71356108e-02,\n",
              "       -2.20873822e-02,  3.94090302e-02, -2.22819857e-02, -2.20755003e-02,\n",
              "        1.93394735e-01, -6.44066706e-02,  3.83068360e-02,  4.76982407e-02,\n",
              "        3.17021236e-02, -4.64647599e-02, -1.28175477e-02,  3.43947746e-02,\n",
              "       -9.98166483e-03, -1.89378504e-02, -3.73370349e-02, -5.11972941e-02,\n",
              "       -1.25175059e-01, -5.07593900e-02, -6.26859218e-02, -3.43930312e-02,\n",
              "        6.13224059e-02, -6.85519725e-02, -4.41055670e-02,  1.15725286e-02,\n",
              "       -2.00685393e-02,  1.86040048e-02,  4.96996054e-03, -4.82495464e-02,\n",
              "       -8.44529644e-02, -8.22203606e-02, -1.13000702e-02,  6.96568564e-02,\n",
              "       -1.22704497e-02,  6.57552779e-02, -3.66491638e-02,  1.24765381e-01,\n",
              "       -9.07356441e-02, -5.49771488e-02, -1.22266740e-01, -3.97485308e-03,\n",
              "       -3.09218448e-02,  4.56321090e-02, -4.96872328e-03,  2.73260642e-02,\n",
              "        5.70425689e-02, -6.29254207e-02, -8.65803808e-02, -1.99263692e-02,\n",
              "       -3.47444275e-03,  5.87182771e-03, -2.92666815e-02, -4.05677520e-02,\n",
              "       -9.78436321e-02,  8.60034823e-02,  5.16986009e-03, -1.02990225e-01,\n",
              "       -4.83526140e-02, -1.08182743e-01, -6.75354898e-02,  3.89723969e-03,\n",
              "       -2.69974303e-02,  6.02036640e-02, -4.42817137e-02, -2.91048568e-02,\n",
              "       -3.83104943e-02,  1.09451981e-02,  4.18128120e-03, -3.11812703e-02,\n",
              "       -7.61126773e-03,  1.22014270e-03, -1.01482011e-01, -4.92825471e-02,\n",
              "       -7.79054612e-02,  9.29285958e-03, -4.95805740e-02, -9.81439184e-03,\n",
              "        1.70290750e-02,  5.09288302e-03,  5.00399945e-03, -1.30721927e-01,\n",
              "       -1.76928360e-02, -5.15375882e-02, -6.75219819e-02,  5.03300279e-02,\n",
              "        1.12811150e-02, -1.34050511e-02,  8.10335129e-02, -2.95079667e-02,\n",
              "       -8.91188812e-03,  8.73005614e-02,  1.24526523e-01,  1.58741313e-03,\n",
              "        2.36246199e-03,  4.28658053e-02,  9.76126082e-03, -8.34637284e-02,\n",
              "       -6.36691526e-02, -7.67244846e-02,  3.28862146e-02,  1.74819957e-03,\n",
              "       -4.50744107e-02,  8.13232809e-02,  4.05507386e-02, -3.56976059e-03,\n",
              "        3.50656025e-02,  6.78511560e-02, -3.60396877e-02,  5.74748442e-02,\n",
              "        1.68954581e-02, -3.78007093e-03,  9.32482556e-02,  5.20711057e-02,\n",
              "       -1.74989160e-02, -1.76404193e-02, -5.15398793e-02, -4.71074954e-02,\n",
              "        6.09067595e-03, -2.85143349e-02, -5.45156710e-02,  6.39090389e-02,\n",
              "        2.68568262e-03,  4.10196446e-02, -3.80135626e-02,  5.10470644e-02,\n",
              "       -4.17638011e-02, -8.20258185e-02, -7.11523965e-02, -2.12825127e-02,\n",
              "       -7.94505477e-02,  4.56024986e-03,  3.25363241e-02,  2.26670057e-02,\n",
              "       -8.41813460e-02,  8.12827125e-02,  5.87867200e-02, -3.46901012e-03,\n",
              "       -7.60673778e-03,  5.68371527e-02, -1.35068163e-01,  1.73342489e-02,\n",
              "        1.21226572e-01,  8.12017098e-02,  9.09199715e-02,  6.77261055e-02,\n",
              "        7.83603564e-02, -2.72544194e-02,  1.18298806e-01, -9.28755179e-02,\n",
              "        5.08086644e-02, -1.56139213e-05, -2.52801143e-02, -2.43869014e-02,\n",
              "        3.51222456e-02,  1.17208399e-01,  3.75943817e-03,  4.87240776e-02,\n",
              "       -1.09641282e-02, -1.01013571e-01,  3.25849950e-02,  6.43386394e-02,\n",
              "       -6.77847266e-02, -4.69645066e-03, -1.83475651e-02,  1.16735706e-02,\n",
              "       -3.45154665e-02, -3.29847708e-02, -2.18383409e-02, -2.74382159e-02,\n",
              "       -2.56157964e-02, -6.37157261e-02, -5.22261225e-02,  3.13600302e-02,\n",
              "        1.87720619e-02,  1.01532027e-01, -2.60682106e-02, -2.85256617e-02,\n",
              "       -2.49539055e-02,  2.86597162e-02, -5.67427613e-02,  5.49711799e-03,\n",
              "        5.86505653e-03, -1.89552471e-01, -7.55247697e-02,  1.34203220e-02,\n",
              "       -4.60364409e-02, -7.77137512e-03, -3.02657504e-02, -1.95188296e-03,\n",
              "       -1.00581134e-02, -8.23565722e-02,  3.67238261e-02, -3.05892099e-02,\n",
              "       -6.99438229e-02,  2.48181801e-02, -5.14004976e-02,  4.46026139e-02,\n",
              "        2.48533431e-02,  1.06497996e-01, -1.76773854e-02, -7.30004162e-02,\n",
              "       -4.42525186e-02,  1.77368708e-03,  3.35185342e-02,  2.80716680e-02,\n",
              "       -9.65684652e-02, -4.07056995e-02,  2.58588474e-02,  6.76948205e-02,\n",
              "        1.79002509e-02, -1.43639627e-05,  3.35809998e-02, -4.06808443e-02,\n",
              "        5.18602878e-02,  2.60779597e-02,  5.45578413e-02, -1.52051762e-01,\n",
              "       -1.77680943e-02, -1.64779395e-01,  6.45943582e-02,  8.65444988e-02,\n",
              "       -1.08008906e-01,  3.55222747e-02,  6.10629916e-02,  7.06256777e-02],\n",
              "      dtype=float32)"
            ]
          },
          "metadata": {},
          "execution_count": 23
        }
      ]
    },
    {
      "cell_type": "markdown",
      "source": [
        "### Проверим арифметику векторов\n",
        "'homer' + 'woman' - 'man'"
      ],
      "metadata": {
        "id": "1wE6lpLqrnw_"
      }
    },
    {
      "cell_type": "code",
      "source": [
        "w2v_model.wv.most_similar(positive=[\"homer\", \"woman\"], negative=[\"man\"], topn=1)"
      ],
      "metadata": {
        "colab": {
          "base_uri": "https://localhost:8080/"
        },
        "id": "onb0IGSAoSz5",
        "outputId": "bb9fbe87-eef1-4129-95c3-0e57155bc22d"
      },
      "execution_count": null,
      "outputs": [
        {
          "output_type": "execute_result",
          "data": {
            "text/plain": [
              "[('marge', 0.26616382598876953)]"
            ]
          },
          "metadata": {},
          "execution_count": 24
        }
      ]
    },
    {
      "cell_type": "markdown",
      "source": [
        "'bart' + 'woman' - 'man'"
      ],
      "metadata": {
        "id": "dugTlOWwt6Q0"
      }
    },
    {
      "cell_type": "code",
      "source": [
        "w2v_model.wv.most_similar(positive=[\"bart\", \"woman\"], negative=[\"man\"], topn=1)"
      ],
      "metadata": {
        "colab": {
          "base_uri": "https://localhost:8080/"
        },
        "id": "VKcfTxxyt6Y7",
        "outputId": "6a724eba-91c4-4b87-fe40-a62d3b76056c"
      },
      "execution_count": null,
      "outputs": [
        {
          "output_type": "execute_result",
          "data": {
            "text/plain": [
              "[('lisa', 0.26985472440719604)]"
            ]
          },
          "metadata": {},
          "execution_count": 25
        }
      ]
    },
    {
      "cell_type": "markdown",
      "source": [
        "### Нарисуем взаимное расположение векторов слов по двум главным компонентам"
      ],
      "metadata": {
        "id": "VrlZa76BrU9i"
      }
    },
    {
      "cell_type": "code",
      "source": [
        "import numpy as np\n",
        "import matplotlib.pyplot as plt\n",
        "%matplotlib inline\n",
        "\n",
        "import seaborn as sns\n",
        "sns.set_style(\"darkgrid\")\n",
        "\n",
        "from sklearn.decomposition import PCA\n",
        "from sklearn.manifold import TSNE\n",
        "\n",
        "def tsnescatterplot(model, word, list_names):\n",
        "    arrays = np.empty((0, 300), dtype='f')\n",
        "    word_labels = [word]\n",
        "    color_list  = ['red']\n",
        "\n",
        "    arrays = np.append(arrays, model.wv.__getitem__([word]), axis=0)\n",
        "\n",
        "    close_words = model.wv.most_similar([word])\n",
        "\n",
        "    for wrd_score in close_words:\n",
        "        wrd_vector = model.wv.__getitem__([wrd_score[0]])\n",
        "        word_labels.append(wrd_score[0])\n",
        "        color_list.append('blue')\n",
        "        arrays = np.append(arrays, wrd_vector, axis=0)\n",
        "\n",
        "    for wrd in list_names:\n",
        "        wrd_vector = model.wv.__getitem__([wrd])\n",
        "        word_labels.append(wrd)\n",
        "        color_list.append('green')\n",
        "        arrays = np.append(arrays, wrd_vector, axis=0)\n",
        "\n",
        "    reduc = PCA().fit_transform(arrays)\n",
        "\n",
        "    np.set_printoptions(suppress=True)\n",
        "\n",
        "    Y = TSNE(n_components=2, random_state=0, perplexity=15).fit_transform(reduc)\n",
        "\n",
        "    df = pd.DataFrame({'x': [x for x in Y[:, 0]],\n",
        "                       'y': [y for y in Y[:, 1]],\n",
        "                       'words': word_labels,\n",
        "                       'color': color_list})\n",
        "\n",
        "    fig, _ = plt.subplots()\n",
        "    fig.set_size_inches(9, 9)\n",
        "\n",
        "    p1 = sns.regplot(data=df,\n",
        "                     x=\"x\",\n",
        "                     y=\"y\",\n",
        "                     fit_reg=False,\n",
        "                     marker=\"o\",\n",
        "                     scatter_kws={'s': 40,\n",
        "                                  'facecolors': df['color']\n",
        "                                 }\n",
        "                    )\n",
        "\n",
        "    for line in range(0, df.shape[0]):\n",
        "         p1.text(df[\"x\"][line],\n",
        "                 df['y'][line],\n",
        "                 '  ' + df[\"words\"][line].title(),\n",
        "                 horizontalalignment='left',\n",
        "                 verticalalignment='bottom', size='medium',\n",
        "                 color=df['color'][line],\n",
        "                 weight='normal'\n",
        "                ).set_size(15)\n",
        "\n",
        "\n",
        "    plt.xlim(Y[:, 0].min()-50, Y[:, 0].max()+50)\n",
        "    plt.ylim(Y[:, 1].min()-50, Y[:, 1].max()+50)\n",
        "\n",
        "    plt.title('t-SNE visualization for {}'.format(word.title()))"
      ],
      "metadata": {
        "id": "alfWqfqaqzKH"
      },
      "execution_count": null,
      "outputs": []
    },
    {
      "cell_type": "code",
      "source": [
        "tsnescatterplot(w2v_model, 'homer', ['dog', 'bird', 'ah', 'maude', 'bob', 'mel', 'apu', 'duff'])"
      ],
      "metadata": {
        "colab": {
          "base_uri": "https://localhost:8080/",
          "height": 795
        },
        "id": "ycIAlfrUrA_W",
        "outputId": "56b46c8d-3705-4c72-d1dc-003eef805b44"
      },
      "execution_count": null,
      "outputs": [
        {
          "output_type": "display_data",
          "data": {
            "text/plain": [
              "<Figure size 900x900 with 1 Axes>"
            ],
            "image/png": "[encoded data removed]"
          },
          "metadata": {}
        }
      ]
    },
    {
      "cell_type": "code",
      "source": [],
      "metadata": {
        "id": "5lpnOb6orBcp"
      },
      "execution_count": null,
      "outputs": []
    }
  ]
}