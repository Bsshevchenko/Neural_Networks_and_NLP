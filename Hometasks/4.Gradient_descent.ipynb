{
  "cells": [
    {
      "cell_type": "markdown",
      "metadata": {
        "id": "RviFzrzcDiFo"
      },
      "source": [
        "# Домашнее задание\n",
        "\n",
        "### Применение различных методов градиентного спуска\n",
        "\n",
        "В этом домашнем задании мы потренируемся применять различные методы градиентного спуска на примере классического датасета для предсказания стоимости домов в Калифорнии."
      ]
    },
    {
      "cell_type": "markdown",
      "metadata": {
        "id": "VUA5S_9JEJqN"
      },
      "source": [
        "## Импорт библиотек"
      ]
    },
    {
      "cell_type": "code",
      "execution_count": 80,
      "metadata": {
        "id": "A-y-4JNCDCft"
      },
      "outputs": [],
      "source": [
        "import pandas as pd\n",
        "import numpy as np\n",
        "from numpy import random\n",
        "\n",
        "from sklearn.datasets import fetch_california_housing\n",
        "from sklearn.linear_model import LinearRegression\n",
        "from sklearn.model_selection import train_test_split\n",
        "from sklearn.preprocessing import StandardScaler\n",
        "\n",
        "import matplotlib.pyplot as plt\n",
        "%matplotlib inline\n",
        "\n",
        "RANDOM_SEED = 42"
      ]
    },
    {
      "cell_type": "markdown",
      "metadata": {
        "id": "phj9pO5oK5WH"
      },
      "source": [
        "### Загрузим датасет"
      ]
    },
    {
      "cell_type": "code",
      "execution_count": 81,
      "metadata": {
        "colab": {
          "base_uri": "https://localhost:8080/",
          "height": 206
        },
        "id": "qniOF2KMEO4h",
        "outputId": "f2f3e851-9516-42d1-90c4-c66451e7a34e"
      },
      "outputs": [
        {
          "data": {
            "text/html": [
              "<div>\n",
              "<style scoped>\n",
              "    .dataframe tbody tr th:only-of-type {\n",
              "        vertical-align: middle;\n",
              "    }\n",
              "\n",
              "    .dataframe tbody tr th {\n",
              "        vertical-align: top;\n",
              "    }\n",
              "\n",
              "    .dataframe thead th {\n",
              "        text-align: right;\n",
              "    }\n",
              "</style>\n",
              "<table border=\"1\" class=\"dataframe\">\n",
              "  <thead>\n",
              "    <tr style=\"text-align: right;\">\n",
              "      <th></th>\n",
              "      <th>MedInc</th>\n",
              "      <th>HouseAge</th>\n",
              "      <th>AveRooms</th>\n",
              "      <th>AveBedrms</th>\n",
              "      <th>Population</th>\n",
              "      <th>AveOccup</th>\n",
              "      <th>Latitude</th>\n",
              "      <th>Longitude</th>\n",
              "      <th>MedHouseVal</th>\n",
              "    </tr>\n",
              "  </thead>\n",
              "  <tbody>\n",
              "    <tr>\n",
              "      <th>0</th>\n",
              "      <td>8.3252</td>\n",
              "      <td>41.0</td>\n",
              "      <td>6.984127</td>\n",
              "      <td>1.023810</td>\n",
              "      <td>322.0</td>\n",
              "      <td>2.555556</td>\n",
              "      <td>37.88</td>\n",
              "      <td>-122.23</td>\n",
              "      <td>4.526</td>\n",
              "    </tr>\n",
              "    <tr>\n",
              "      <th>1</th>\n",
              "      <td>8.3014</td>\n",
              "      <td>21.0</td>\n",
              "      <td>6.238137</td>\n",
              "      <td>0.971880</td>\n",
              "      <td>2401.0</td>\n",
              "      <td>2.109842</td>\n",
              "      <td>37.86</td>\n",
              "      <td>-122.22</td>\n",
              "      <td>3.585</td>\n",
              "    </tr>\n",
              "    <tr>\n",
              "      <th>2</th>\n",
              "      <td>7.2574</td>\n",
              "      <td>52.0</td>\n",
              "      <td>8.288136</td>\n",
              "      <td>1.073446</td>\n",
              "      <td>496.0</td>\n",
              "      <td>2.802260</td>\n",
              "      <td>37.85</td>\n",
              "      <td>-122.24</td>\n",
              "      <td>3.521</td>\n",
              "    </tr>\n",
              "    <tr>\n",
              "      <th>3</th>\n",
              "      <td>5.6431</td>\n",
              "      <td>52.0</td>\n",
              "      <td>5.817352</td>\n",
              "      <td>1.073059</td>\n",
              "      <td>558.0</td>\n",
              "      <td>2.547945</td>\n",
              "      <td>37.85</td>\n",
              "      <td>-122.25</td>\n",
              "      <td>3.413</td>\n",
              "    </tr>\n",
              "    <tr>\n",
              "      <th>4</th>\n",
              "      <td>3.8462</td>\n",
              "      <td>52.0</td>\n",
              "      <td>6.281853</td>\n",
              "      <td>1.081081</td>\n",
              "      <td>565.0</td>\n",
              "      <td>2.181467</td>\n",
              "      <td>37.85</td>\n",
              "      <td>-122.25</td>\n",
              "      <td>3.422</td>\n",
              "    </tr>\n",
              "  </tbody>\n",
              "</table>\n",
              "</div>"
            ],
            "text/plain": [
              "   MedInc  HouseAge  AveRooms  AveBedrms  Population  AveOccup  Latitude  \\\n",
              "0  8.3252      41.0  6.984127   1.023810       322.0  2.555556     37.88   \n",
              "1  8.3014      21.0  6.238137   0.971880      2401.0  2.109842     37.86   \n",
              "2  7.2574      52.0  8.288136   1.073446       496.0  2.802260     37.85   \n",
              "3  5.6431      52.0  5.817352   1.073059       558.0  2.547945     37.85   \n",
              "4  3.8462      52.0  6.281853   1.081081       565.0  2.181467     37.85   \n",
              "\n",
              "   Longitude  MedHouseVal  \n",
              "0    -122.23        4.526  \n",
              "1    -122.22        3.585  \n",
              "2    -122.24        3.521  \n",
              "3    -122.25        3.413  \n",
              "4    -122.25        3.422  "
            ]
          },
          "execution_count": 81,
          "metadata": {},
          "output_type": "execute_result"
        }
      ],
      "source": [
        "data = fetch_california_housing()\n",
        "df = pd.DataFrame(data= np.c_[data['data'], data['target']],\n",
        "                     columns= data['feature_names'] + data['target_names'])\n",
        "df.head()"
      ]
    },
    {
      "cell_type": "markdown",
      "metadata": {
        "id": "hsBHGsjBr_3w"
      },
      "source": [
        "Разделим датасет на обучающую и тестовую выборки, а также сразу осуществим масштабирование признаков, поскольку в дальнейшем мы будем использовать линейную регрессию."
      ]
    },
    {
      "cell_type": "code",
      "execution_count": 82,
      "metadata": {
        "id": "h-Pm6MyVK-fU"
      },
      "outputs": [],
      "source": [
        "X_train, X_test, y_train, y_test = train_test_split(df[data['feature_names']], df[data['target_names']].values,\n",
        "                                                    test_size=0.33,\n",
        "                                                    random_state=RANDOM_SEED)\n",
        "\n",
        "scaler = StandardScaler()\n",
        "X_train = scaler.fit_transform(X_train)\n",
        "X_test = scaler.transform(X_test)"
      ]
    },
    {
      "cell_type": "markdown",
      "metadata": {
        "id": "Gm_mgDvesOUp"
      },
      "source": [
        "Попробуем применить линейную регрессию \"из коробки\" и посмотреть, какая получается ошибка на тестовой выборке."
      ]
    },
    {
      "cell_type": "code",
      "execution_count": 83,
      "metadata": {
        "colab": {
          "base_uri": "https://localhost:8080/"
        },
        "id": "YGiaDDRmsV_f",
        "outputId": "232eae84-f1dc-4d8d-ad7b-a12828f72872"
      },
      "outputs": [
        {
          "name": "stdout",
          "output_type": "stream",
          "text": [
            "Ошибка: 0.5369686543372459\n"
          ]
        }
      ],
      "source": [
        "model = LinearRegression()\n",
        "model.fit(X_train, y_train)\n",
        "pred = model.predict(X_test)\n",
        "print(f'Ошибка: {np.sum((pred - y_test)**2) / y_test.shape[0]}')"
      ]
    },
    {
      "cell_type": "markdown",
      "metadata": {
        "id": "DG2XKC0msi2a"
      },
      "source": [
        "В итоге мы получили на тестовой выборке некоторое значение ошибки. Давайте теперь попробуем самостоятельно реализовать классический градиентный спуск и сравним значение полученной ошибки"
      ]
    },
    {
      "cell_type": "code",
      "execution_count": 84,
      "metadata": {
        "id": "4Wxn1oFILC0n"
      },
      "outputs": [],
      "source": [
        "def full_gradient_descent(X, y, lr=0.001, tol=0.0001, max_steps=20000):\n",
        "  # Добавьте в начало матрицы Х столбец из единиц, чтобы не потерять свободный коэфф. w0\n",
        "  X = np.hstack((np.ones((X.shape[0], 1)), X))\n",
        "  np.random.seed(RANDOM_SEED)\n",
        "  #Иницилизируем веса случайным образом\n",
        "  w_prev = np.random.rand(X.shape[1], 1)\n",
        "\n",
        "  # Количество строк в матрице Х\n",
        "  n = X.shape[0]\n",
        "  errors = []\n",
        "\n",
        "  for i in range(max_steps):\n",
        "    # Значение градиента на шаге i\n",
        "    grad = - 2 / n * X.T @ (y - X @ w_prev)\n",
        "    # Шаг градиентного спуска\n",
        "    w_new = w_prev - lr * grad\n",
        "\n",
        "    errors.append(((y - X @ w_new)**2).sum() / n)\n",
        "    # Условие, что норма разности векторов w_new и w_prev меньше tol\n",
        "    if np.linalg.norm(w_new - w_prev) < tol:\n",
        "      return w_new, errors\n",
        "    else:\n",
        "      w_prev = w_new\n",
        "\n",
        "  return w_new, errors\n",
        "\n",
        "\n",
        "def test_error(X, y, w):\n",
        "  X = np.hstack((np.ones((X.shape[0], 1)), X))\n",
        "  return ((y - X @ w)**2).sum() / X.shape[0]"
      ]
    },
    {
      "cell_type": "code",
      "execution_count": 85,
      "metadata": {
        "id": "y5qLZmbdX41G"
      },
      "outputs": [
        {
          "name": "stdout",
          "output_type": "stream",
          "text": [
            "Количество итераций: 8554\n",
            "CPU times: total: 2.62 s\n",
            "Wall time: 2.73 s\n"
          ]
        }
      ],
      "source": [
        "%%time\n",
        "w_fgd, errors_fgd = full_gradient_descent(X_train, y_train)\n",
        "\n",
        "print(f'Количество итераций: {len(errors_fgd)}')"
      ]
    },
    {
      "cell_type": "code",
      "execution_count": 86,
      "metadata": {
        "colab": {
          "base_uri": "https://localhost:8080/",
          "height": 482
        },
        "id": "8xRYidhquvd3",
        "outputId": "07a29ce5-590b-4518-d81a-032776c78a9e"
      },
      "outputs": [
        {
          "name": "stdout",
          "output_type": "stream",
          "text": [
            "Ошибка на тестовой выборке: 0.56785915405439\n",
            "Значения весов [[ 2.06663614  0.90272471  0.18767006 -0.29860149  0.29710304  0.02317329\n",
            "  -0.0498699  -0.34309453 -0.32044882]]\n"
          ]
        },
        {
          "data": {
            "text/plain": [
              "Text(0, 0.5, 'Ошибка на тестовой выборке')"
            ]
          },
          "execution_count": 86,
          "metadata": {},
          "output_type": "execute_result"
        },
        {
          "data": {
            "image/png": "[encoded data removed]",
            "text/plain": [
              "<Figure size 640x480 with 1 Axes>"
            ]
          },
          "metadata": {},
          "output_type": "display_data"
        }
      ],
      "source": [
        "print(f'Ошибка на тестовой выборке: {test_error(X_test, y_test, w_fgd)}')\n",
        "print('Значения весов', w_fgd.T)\n",
        "plt.plot(errors_fgd);\n",
        "plt.xlabel('Кол-во итераций')\n",
        "plt.ylabel('Ошибка на тестовой выборке')"
      ]
    },
    {
      "cell_type": "markdown",
      "metadata": {
        "id": "vsFu4wdpuuuF"
      },
      "source": [
        "Давайте теперь реализуем стохастический градиентный спуск."
      ]
    },
    {
      "cell_type": "code",
      "execution_count": 87,
      "metadata": {
        "id": "qvFdrwpalkMD"
      },
      "outputs": [],
      "source": [
        "def stochastic_gradient_descent(X, y, lr=0.001, tol=0.0001, max_steps=20000):\n",
        "  # Добавьте в начало матрицы Х столбец из единиц\n",
        "  X = np.hstack((np.ones((X.shape[0], 1)), X))\n",
        "  np.random.seed(RANDOM_SEED)\n",
        "  w_prev = np.random.rand(X.shape[1], 1)\n",
        "\n",
        "  # Количество строк в матрице Х\n",
        "  n = X.shape[0]\n",
        "  errors = []\n",
        "\n",
        "  for i in range(max_steps):\n",
        "    # Создайте список из номера одного случайного объекта из выборки\n",
        "    ind = np.random.randint(X.shape[0])\n",
        "\n",
        "    # Значение градиента на шаге i\n",
        "    grad = -2 * X[ind:ind+1 , :].T @ (y[ind:ind+1] - X[ind:ind+1, :] @ w_prev)\n",
        "    # Шаг градиентного спуска\n",
        "    w_new = w_prev - lr*grad\n",
        "\n",
        "    errors.append(((y - X @ w_new)**2).sum() / n)\n",
        "    # Условие, что норма разности векторов w_new и w_prev меньше tol\n",
        "    if np.linalg.norm(w_new - w_prev) < tol:\n",
        "      return w_new, errors\n",
        "    else:\n",
        "      w_prev = w_new\n",
        "\n",
        "  return w_new, errors\n"
      ]
    },
    {
      "cell_type": "code",
      "execution_count": 88,
      "metadata": {
        "id": "NXzPtiOerfgb"
      },
      "outputs": [
        {
          "name": "stdout",
          "output_type": "stream",
          "text": [
            "Количество итераций: 244\n",
            "CPU times: total: 0 ns\n",
            "Wall time: 42.8 ms\n"
          ]
        }
      ],
      "source": [
        "%%time\n",
        "w_sgd, errors_sgd = stochastic_gradient_descent(X_train, y_train)\n",
        "\n",
        "print(f'Количество итераций: {len(errors_sgd)}')"
      ]
    },
    {
      "cell_type": "code",
      "execution_count": 89,
      "metadata": {
        "colab": {
          "base_uri": "https://localhost:8080/",
          "height": 482
        },
        "id": "_4LEwJ4UO2vo",
        "outputId": "d020e73c-f57c-4e8f-d5ce-4fc5cd7f0499"
      },
      "outputs": [
        {
          "name": "stdout",
          "output_type": "stream",
          "text": [
            "Ошибка на тестовой выборке: 2.2276906805256025\n",
            "Значения весов [[1.07960103 0.8941185  0.60013235 0.40334447 0.0432827  0.22142737\n",
            "  0.03361304 0.70012945 0.67218878]]\n"
          ]
        },
        {
          "data": {
            "image/png": "[encoded data removed]",
            "text/plain": [
              "<Figure size 640x480 with 1 Axes>"
            ]
          },
          "metadata": {},
          "output_type": "display_data"
        }
      ],
      "source": [
        "print(f'Ошибка на тестовой выборке: {test_error(X_test, y_test, w_sgd)}')\n",
        "print('Значения весов', w_sgd.T)\n",
        "plt.plot(errors_sgd);"
      ]
    },
    {
      "cell_type": "markdown",
      "metadata": {
        "id": "u02JZZAy77fC"
      },
      "source": [
        "Видно, что хоть мы и движемся вниз с точки зрения ошибки на обучающей выборке, мы останавливаемся слишком рано. Подумайте, почему так происходит. Попробуйте уменьшить значение параметра tol и посмотрите, что получится."
      ]
    },
    {
      "cell_type": "code",
      "execution_count": 90,
      "metadata": {
        "id": "WOviapK2PLcT"
      },
      "outputs": [
        {
          "name": "stdout",
          "output_type": "stream",
          "text": [
            "Количество итераций: 1260\n",
            "CPU times: total: 156 ms\n",
            "Wall time: 251 ms\n"
          ]
        }
      ],
      "source": [
        "%%time\n",
        "w_sgd, errors_sgd = stochastic_gradient_descent(X_train, y_train, tol=0.00001)\n",
        "\n",
        "print(f'Количество итераций: {len(errors_sgd)}')"
      ]
    },
    {
      "cell_type": "code",
      "execution_count": 91,
      "metadata": {
        "colab": {
          "base_uri": "https://localhost:8080/",
          "height": 482
        },
        "id": "N9LWdcvPQeFY",
        "outputId": "b020378a-0e0d-4638-95fe-d317d39d9ea9"
      },
      "outputs": [
        {
          "name": "stdout",
          "output_type": "stream",
          "text": [
            "Ошибка на тестовой выборке: 0.8302967114200617\n",
            "Значения весов [[ 1.94675537  0.82909012  0.39157934  0.05928422 -0.06918601  0.13142379\n",
            "  -0.01282355  0.4608064   0.49975588]]\n"
          ]
        },
        {
          "data": {
            "image/png": "[encoded data removed]",
            "text/plain": [
              "<Figure size 640x480 with 1 Axes>"
            ]
          },
          "metadata": {},
          "output_type": "display_data"
        }
      ],
      "source": [
        "print(f'Ошибка на тестовой выборке: {test_error(X_test, y_test, w_sgd)}')\n",
        "print('Значения весов', w_sgd.T)\n",
        "plt.plot(errors_sgd);"
      ]
    },
    {
      "cell_type": "markdown",
      "metadata": {
        "id": "xVf--yEl9Y78"
      },
      "source": [
        "Ошибка получилась значительно меньше, но и количество потребовавшихся шагов сильно увеличилось. Давайте теперь попробуем сделать что-то среднее между полным градиентным спуском и стохастическим градиентным спуском (Mini-batch),  добавим сохранение момента и динамический learning rate."
      ]
    },
    {
      "cell_type": "code",
      "execution_count": 117,
      "metadata": {
        "id": "iOSU6hZi9W3g"
      },
      "outputs": [],
      "source": [
        "def momentum_gradient_descent(X, y, lr=0.001, tol=0.0001, batch_size=64, alpha=0.9, max_steps=20000):\n",
        "  # Добавьте в начало матрицы Х столбец из единиц\n",
        "  X = np.hstack((np.ones((X.shape[0], 1)), X))\n",
        "  np.random.seed(RANDOM_SEED)\n",
        "  w_prev = np.random.rand(X.shape[1], 1)\n",
        "\n",
        "  # Количество строк в матрице Х\n",
        "  n = X.shape[0]\n",
        "  errors = []\n",
        "  momentum = 0\n",
        "\n",
        "  for i in range(max_steps):\n",
        "    # Создайте список из batch_size штук случайных объектов из выборки\n",
        "    ind = np.random.choice(X.shape[0], size=batch_size, replace=False)\n",
        "\n",
        "    # Значение градиента на шаге i\n",
        "    grad = -2 * X[ind, :].T @ (y[ind, :] - X[ind, :] @ w_prev) / batch_size\n",
        "    # Шаг градиентного спуска\n",
        "    h = alpha * momentum + lr*grad\n",
        "    w_new = w_prev - h\n",
        "\n",
        "    errors.append(((y - X @ w_new)**2).sum() / n)\n",
        "    # Условие, что норма разности векторов w_new и w_prev меньше tol\n",
        "    if np.linalg.norm(w_new-w_prev) < tol:\n",
        "      return w_new, errors\n",
        "    else:\n",
        "      w_prev = w_new\n",
        "      momentum = h\n",
        "      # Динамический learning rate\n",
        "      lr = 0.01 / (i+1)**0.3\n",
        "\n",
        "  return w_new, errors\n"
      ]
    },
    {
      "cell_type": "code",
      "execution_count": 118,
      "metadata": {
        "id": "7uNkULEz-G2c"
      },
      "outputs": [
        {
          "name": "stdout",
          "output_type": "stream",
          "text": [
            "Количество итераций: 747\n",
            "CPU times: total: 547 ms\n",
            "Wall time: 645 ms\n"
          ]
        }
      ],
      "source": [
        "%%time\n",
        "w_mgd, errors_mgd = momentum_gradient_descent(X_train, y_train, tol=0.001)\n",
        "\n",
        "print(f'Количество итераций: {len(errors_mgd)}')"
      ]
    },
    {
      "cell_type": "code",
      "execution_count": 119,
      "metadata": {
        "colab": {
          "base_uri": "https://localhost:8080/",
          "height": 482
        },
        "id": "-BFCuDYf-I7n",
        "outputId": "0768d720-9484-4709-b7b8-5ceba7b23759"
      },
      "outputs": [
        {
          "name": "stdout",
          "output_type": "stream",
          "text": [
            "Ошибка на тестовой выборке: 0.5377605760454659\n",
            "Значения весов [[ 2.06009305  0.87388137  0.14948685 -0.28815851  0.29692379  0.0077756\n",
            "  -0.03975777 -0.66640007 -0.64430772]]\n"
          ]
        },
        {
          "data": {
            "image/png": "[encoded data removed]",
            "text/plain": [
              "<Figure size 640x480 with 1 Axes>"
            ]
          },
          "metadata": {},
          "output_type": "display_data"
        }
      ],
      "source": [
        "print(f'Ошибка на тестовой выборке: {test_error(X_test, y_test, w_mgd)}')\n",
        "print('Значения весов', w_mgd.T)\n",
        "plt.plot(errors_mgd);"
      ]
    },
    {
      "cell_type": "markdown",
      "metadata": {
        "id": "3OggNDbLDhFw"
      },
      "source": [
        "Обратите внимание, что с помощью Momentum Mini-batch SGD мы получили даже лучше результат, чем при использовании метода LinearRegression из пакета sklearn. Однако, пришлось заменить значение параметра tol. Подумайте, почему так происходит, и поэкспериментируйте."
      ]
    },
    {
      "cell_type": "code",
      "execution_count": null,
      "metadata": {
        "id": "oREWqRyv-gLI"
      },
      "outputs": [],
      "source": []
    }
  ],
  "metadata": {
    "colab": {
      "provenance": []
    },
    "kernelspec": {
      "display_name": "Python 3",
      "name": "python3"
    },
    "language_info": {
      "codemirror_mode": {
        "name": "ipython",
        "version": 3
      },
      "file_extension": ".py",
      "mimetype": "text/x-python",
      "name": "python",
      "nbconvert_exporter": "python",
      "pygments_lexer": "ipython3",
      "version": "3.10.9"
    }
  },
  "nbformat": 4,
  "nbformat_minor": 0
}
