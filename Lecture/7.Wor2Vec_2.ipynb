{
  "cells": [
    {
      "cell_type": "markdown",
      "metadata": {
        "id": "-SnjiZAkDFs-"
      },
      "source": [
        "## РИА Новости"
      ]
    },
    {
      "cell_type": "markdown",
      "source": [
        "# Часть 1"
      ],
      "metadata": {
        "id": "KqhvlxtRNyLM"
      }
    },
    {
      "cell_type": "code",
      "execution_count": 1,
      "metadata": {
        "id": "OjyYanEyDFtE",
        "outputId": "8698b9ab-38e0-47b4-9547-40b0819d9cfb",
        "colab": {
          "base_uri": "https://localhost:8080/"
        }
      },
      "outputs": [
        {
          "output_type": "stream",
          "name": "stderr",
          "text": [
            "[nltk_data] Downloading package stopwords to /root/nltk_data...\n",
            "[nltk_data]   Unzipping corpora/stopwords.zip.\n"
          ]
        }
      ],
      "source": [
        "import matplotlib.pyplot as plt\n",
        "import seaborn as sns\n",
        "import numpy as np\n",
        "import pandas as pd\n",
        "import datetime\n",
        "from wordcloud import WordCloud, STOPWORDS\n",
        "\n",
        "import nltk\n",
        "from nltk.corpus import stopwords\n",
        "nltk.download(\"stopwords\")\n",
        "\n",
        "sns.set(style=\"darkgrid\")\n",
        "%matplotlib inline"
      ]
    },
    {
      "cell_type": "code",
      "source": [
        "from google.colab import drive\n",
        "drive.mount('/content/drive')"
      ],
      "metadata": {
        "colab": {
          "base_uri": "https://localhost:8080/"
        },
        "id": "tZNlTS5DIq2B",
        "outputId": "bbe62a84-4f78-4155-fd0a-3a5df4e3a996"
      },
      "execution_count": 2,
      "outputs": [
        {
          "output_type": "stream",
          "name": "stdout",
          "text": [
            "Mounted at /content/drive\n"
          ]
        }
      ]
    },
    {
      "cell_type": "markdown",
      "metadata": {
        "id": "2CzfowDDDFtE"
      },
      "source": [
        "---"
      ]
    },
    {
      "cell_type": "code",
      "execution_count": 3,
      "metadata": {
        "id": "TuoGu9jIDFtE",
        "colab": {
          "base_uri": "https://localhost:8080/",
          "height": 404
        },
        "outputId": "fc832167-8f85-422d-9d54-19f713727ffb"
      },
      "outputs": [
        {
          "output_type": "error",
          "ename": "FileNotFoundError",
          "evalue": "ignored",
          "traceback": [
            "\u001b[0;31m---------------------------------------------------------------------------\u001b[0m",
            "\u001b[0;31mFileNotFoundError\u001b[0m                         Traceback (most recent call last)",
            "\u001b[0;32m<ipython-input-3-af7818c06532>\u001b[0m in \u001b[0;36m<cell line: 1>\u001b[0;34m()\u001b[0m\n\u001b[0;32m----> 1\u001b[0;31m \u001b[0mdf\u001b[0m \u001b[0;34m=\u001b[0m \u001b[0mpd\u001b[0m\u001b[0;34m.\u001b[0m\u001b[0mread_pickle\u001b[0m\u001b[0;34m(\u001b[0m\u001b[0;34m'/content/drive/MyDrive/Colab Notebooks/data/df_final.p'\u001b[0m\u001b[0;34m,\u001b[0m \u001b[0mcompression\u001b[0m\u001b[0;34m=\u001b[0m\u001b[0;34m'gzip'\u001b[0m\u001b[0;34m)\u001b[0m\u001b[0;34m\u001b[0m\u001b[0;34m\u001b[0m\u001b[0m\n\u001b[0m\u001b[1;32m      2\u001b[0m \u001b[0mdf\u001b[0m\u001b[0;34m.\u001b[0m\u001b[0mdrop\u001b[0m\u001b[0;34m(\u001b[0m\u001b[0mcolumns\u001b[0m\u001b[0;34m=\u001b[0m\u001b[0;34m'id'\u001b[0m\u001b[0;34m,\u001b[0m \u001b[0minplace\u001b[0m\u001b[0;34m=\u001b[0m\u001b[0;32mTrue\u001b[0m\u001b[0;34m)\u001b[0m\u001b[0;34m\u001b[0m\u001b[0;34m\u001b[0m\u001b[0m\n\u001b[1;32m      3\u001b[0m \u001b[0mdf\u001b[0m \u001b[0;34m=\u001b[0m \u001b[0mdf\u001b[0m\u001b[0;34m.\u001b[0m\u001b[0mreset_index\u001b[0m\u001b[0;34m(\u001b[0m\u001b[0mdrop\u001b[0m\u001b[0;34m=\u001b[0m\u001b[0;32mTrue\u001b[0m\u001b[0;34m)\u001b[0m\u001b[0;34m\u001b[0m\u001b[0;34m\u001b[0m\u001b[0m\n\u001b[1;32m      4\u001b[0m \u001b[0;34m\u001b[0m\u001b[0m\n\u001b[1;32m      5\u001b[0m \u001b[0mprint\u001b[0m\u001b[0;34m(\u001b[0m\u001b[0;34mf'Размер датасета: {df.shape}'\u001b[0m\u001b[0;34m)\u001b[0m\u001b[0;34m\u001b[0m\u001b[0;34m\u001b[0m\u001b[0m\n",
            "\u001b[0;32m/usr/local/lib/python3.10/dist-packages/pandas/io/pickle.py\u001b[0m in \u001b[0;36mread_pickle\u001b[0;34m(filepath_or_buffer, compression, storage_options)\u001b[0m\n\u001b[1;32m    188\u001b[0m     \"\"\"\n\u001b[1;32m    189\u001b[0m     \u001b[0mexcs_to_catch\u001b[0m \u001b[0;34m=\u001b[0m \u001b[0;34m(\u001b[0m\u001b[0mAttributeError\u001b[0m\u001b[0;34m,\u001b[0m \u001b[0mImportError\u001b[0m\u001b[0;34m,\u001b[0m \u001b[0mModuleNotFoundError\u001b[0m\u001b[0;34m,\u001b[0m \u001b[0mTypeError\u001b[0m\u001b[0;34m)\u001b[0m\u001b[0;34m\u001b[0m\u001b[0;34m\u001b[0m\u001b[0m\n\u001b[0;32m--> 190\u001b[0;31m     with get_handle(\n\u001b[0m\u001b[1;32m    191\u001b[0m         \u001b[0mfilepath_or_buffer\u001b[0m\u001b[0;34m,\u001b[0m\u001b[0;34m\u001b[0m\u001b[0;34m\u001b[0m\u001b[0m\n\u001b[1;32m    192\u001b[0m         \u001b[0;34m\"rb\"\u001b[0m\u001b[0;34m,\u001b[0m\u001b[0;34m\u001b[0m\u001b[0;34m\u001b[0m\u001b[0m\n",
            "\u001b[0;32m/usr/local/lib/python3.10/dist-packages/pandas/io/common.py\u001b[0m in \u001b[0;36mget_handle\u001b[0;34m(path_or_buf, mode, encoding, compression, memory_map, is_text, errors, storage_options)\u001b[0m\n\u001b[1;32m    748\u001b[0m                 \u001b[0;31m# error: Incompatible types in assignment (expression has type\u001b[0m\u001b[0;34m\u001b[0m\u001b[0;34m\u001b[0m\u001b[0m\n\u001b[1;32m    749\u001b[0m                 \u001b[0;31m# \"GzipFile\", variable has type \"Union[str, BaseBuffer]\")\u001b[0m\u001b[0;34m\u001b[0m\u001b[0;34m\u001b[0m\u001b[0m\n\u001b[0;32m--> 750\u001b[0;31m                 handle = gzip.GzipFile(  # type: ignore[assignment]\n\u001b[0m\u001b[1;32m    751\u001b[0m                     \u001b[0mfilename\u001b[0m\u001b[0;34m=\u001b[0m\u001b[0mhandle\u001b[0m\u001b[0;34m,\u001b[0m\u001b[0;34m\u001b[0m\u001b[0;34m\u001b[0m\u001b[0m\n\u001b[1;32m    752\u001b[0m                     \u001b[0mmode\u001b[0m\u001b[0;34m=\u001b[0m\u001b[0mioargs\u001b[0m\u001b[0;34m.\u001b[0m\u001b[0mmode\u001b[0m\u001b[0;34m,\u001b[0m\u001b[0;34m\u001b[0m\u001b[0;34m\u001b[0m\u001b[0m\n",
            "\u001b[0;32m/usr/lib/python3.10/gzip.py\u001b[0m in \u001b[0;36m__init__\u001b[0;34m(self, filename, mode, compresslevel, fileobj, mtime)\u001b[0m\n\u001b[1;32m    172\u001b[0m             \u001b[0mmode\u001b[0m \u001b[0;34m+=\u001b[0m \u001b[0;34m'b'\u001b[0m\u001b[0;34m\u001b[0m\u001b[0;34m\u001b[0m\u001b[0m\n\u001b[1;32m    173\u001b[0m         \u001b[0;32mif\u001b[0m \u001b[0mfileobj\u001b[0m \u001b[0;32mis\u001b[0m \u001b[0;32mNone\u001b[0m\u001b[0;34m:\u001b[0m\u001b[0;34m\u001b[0m\u001b[0;34m\u001b[0m\u001b[0m\n\u001b[0;32m--> 174\u001b[0;31m             \u001b[0mfileobj\u001b[0m \u001b[0;34m=\u001b[0m \u001b[0mself\u001b[0m\u001b[0;34m.\u001b[0m\u001b[0mmyfileobj\u001b[0m \u001b[0;34m=\u001b[0m \u001b[0mbuiltins\u001b[0m\u001b[0;34m.\u001b[0m\u001b[0mopen\u001b[0m\u001b[0;34m(\u001b[0m\u001b[0mfilename\u001b[0m\u001b[0;34m,\u001b[0m \u001b[0mmode\u001b[0m \u001b[0;32mor\u001b[0m \u001b[0;34m'rb'\u001b[0m\u001b[0;34m)\u001b[0m\u001b[0;34m\u001b[0m\u001b[0;34m\u001b[0m\u001b[0m\n\u001b[0m\u001b[1;32m    175\u001b[0m         \u001b[0;32mif\u001b[0m \u001b[0mfilename\u001b[0m \u001b[0;32mis\u001b[0m \u001b[0;32mNone\u001b[0m\u001b[0;34m:\u001b[0m\u001b[0;34m\u001b[0m\u001b[0;34m\u001b[0m\u001b[0m\n\u001b[1;32m    176\u001b[0m             \u001b[0mfilename\u001b[0m \u001b[0;34m=\u001b[0m \u001b[0mgetattr\u001b[0m\u001b[0;34m(\u001b[0m\u001b[0mfileobj\u001b[0m\u001b[0;34m,\u001b[0m \u001b[0;34m'name'\u001b[0m\u001b[0;34m,\u001b[0m \u001b[0;34m''\u001b[0m\u001b[0;34m)\u001b[0m\u001b[0;34m\u001b[0m\u001b[0;34m\u001b[0m\u001b[0m\n",
            "\u001b[0;31mFileNotFoundError\u001b[0m: [Errno 2] No such file or directory: '/content/drive/MyDrive/Colab Notebooks/data/df_final.p'"
          ]
        }
      ],
      "source": [
        "df = pd.read_pickle('/content/drive/MyDrive/Colab Notebooks/data/df_final.p', compression='gzip')\n",
        "df.drop(columns='id', inplace=True)\n",
        "df = df.reset_index(drop=True)\n",
        "\n",
        "print(f'Размер датасета: {df.shape}')\n",
        "df.head()"
      ]
    },
    {
      "cell_type": "code",
      "execution_count": null,
      "metadata": {
        "id": "KkzSJlMWDFtE"
      },
      "outputs": [],
      "source": [
        "# Размер каждой категории\n",
        "df.topic.value_counts()"
      ]
    },
    {
      "cell_type": "markdown",
      "metadata": {
        "id": "6iQjPMuRDFtF"
      },
      "source": [
        "Видим, что в целом наши категории вполне сбалансированы. Это не удивительно, поскольку мы настроили парсер именно так, чтобы выгрузить по каждой тематике приблизительно равное количество статей."
      ]
    },
    {
      "cell_type": "code",
      "execution_count": null,
      "metadata": {
        "id": "KIEJNPPODFtF"
      },
      "outputs": [],
      "source": [
        "fig, ax = plt.subplots(1, 1, sharex=True, sharey=True, figsize=(12,4))\n",
        "sns.countplot(y=df[\"topic\"], palette='tab10', ax=ax)\n",
        "plt.title('Number of news by topics');"
      ]
    },
    {
      "cell_type": "markdown",
      "metadata": {
        "id": "PAuXQaR4DFtF"
      },
      "source": [
        "Сама по себе дата как строка не является признаком, однако ее компоненты могут играть важную роль в работе модели. Поэтому мы преобразуем строковую дату в формат datetime и добавим к нашим признакам год, месяц и день недели."
      ]
    },
    {
      "cell_type": "code",
      "execution_count": null,
      "metadata": {
        "id": "G3EzikJuDFtF"
      },
      "outputs": [],
      "source": [
        "df['datetime'] = pd.to_datetime(df.datetime)\n",
        "df['year'] = df['datetime'].dt.year\n",
        "df['month'] = df['datetime'].dt.strftime(\"%B\")\n",
        "df['weekday'] = df['datetime'].dt.strftime('%A')"
      ]
    },
    {
      "cell_type": "markdown",
      "metadata": {
        "id": "p4pS4VR2DFtF"
      },
      "source": [
        "Какие выводы можно сделать по графикам ниже:\n",
        "- Все новости относятся к 2021 году\n",
        "- Больше всего новостей приходится на конец года (Ноябрь, Декабрь - лидер)\n",
        "- Меньше всего новостей в выходные и больше всего в начале недели"
      ]
    },
    {
      "cell_type": "code",
      "execution_count": null,
      "metadata": {
        "id": "EvY8FqFeDFtF"
      },
      "outputs": [],
      "source": [
        "fig, axs = plt.subplots(3, 1, figsize=(16, 6), dpi=100)\n",
        "for ind, col in enumerate(['year', 'month', 'weekday']):\n",
        "    sns.countplot(x=df[col], palette='tab10', ax=axs[ind], order=df[col].value_counts(ascending=True).index)\n",
        "axs[0].set_title('Count news by datetime');"
      ]
    },
    {
      "cell_type": "markdown",
      "metadata": {
        "id": "05oGQNL_DFtF"
      },
      "source": [
        "Посмотрим на распределение числа просмотров по каждой из тематик. Видим, что имеются очень тяжелые хвосты в каждой из тем, то есть в датасете присутствуют статьи, сильно выделяющиеся по своей популярности. Однако, сразу нужно отметить, что количество просмотров также зависит от возраста статьи, поэтому зависимость популярности от количества просмотров имеет не линейную, а более сложную зависимость."
      ]
    },
    {
      "cell_type": "code",
      "execution_count": null,
      "metadata": {
        "id": "ASFUNxPyDFtF"
      },
      "outputs": [],
      "source": [
        "fig, ax = plt.subplots(1, 1, figsize=(12, 4), dpi=100)\n",
        "sns.boxplot(x=\"topic\", y=\"views\", data=df, ax=ax)\n",
        "plt.title('Boxplot of views by topics');"
      ]
    },
    {
      "cell_type": "markdown",
      "metadata": {
        "id": "USi_X-jUDFtF"
      },
      "source": [
        "Рассмотрим в целом на распределение количества просмотров по всем данным."
      ]
    },
    {
      "cell_type": "code",
      "execution_count": null,
      "metadata": {
        "id": "2Lxdk6ulDFtF"
      },
      "outputs": [],
      "source": [
        "fig, axs = plt.subplots(1, 1, figsize=(12, 4), dpi=100)\n",
        "sns.despine(fig)\n",
        "\n",
        "sns.histplot(\n",
        "    df,\n",
        "    x=\"views\",\n",
        "    edgecolor=\".3\",\n",
        "    linewidth=.5,\n",
        ");\n",
        "axs.set_title('Views distribution over topic');"
      ]
    },
    {
      "cell_type": "markdown",
      "metadata": {
        "id": "hkD-VJRrDFtF"
      },
      "source": [
        "Во-первых, как уже отмечалось, у распределения количества просмотров есть далекие выбросы. Более того, форма распределения очень похожа на логнормальное распределение. Поэтому добавим еще один признак - логарифм количества просмотров, сдвинутого на единицу, поскольку количество просмотров может принимать значение ноль.\n",
        "\n",
        "На графике ниже по оси абсцисс отложен log1p количества просмотров, а по оси ординат - количество статей разных тематик, имеющих такое количество просмотров. Видно, что теперь распределение имеет форму, близкую к нормальному распределению, хоть оно немного скошено вправо и имеет отрицательный коэффициент асимметрии (skewness)."
      ]
    },
    {
      "cell_type": "code",
      "execution_count": null,
      "metadata": {
        "id": "axm197g5DFtF"
      },
      "outputs": [],
      "source": [
        "df['log_views'] = np.log1p(df['views'])"
      ]
    },
    {
      "cell_type": "code",
      "execution_count": null,
      "metadata": {
        "id": "PncMxjbQDFtF"
      },
      "outputs": [],
      "source": [
        "fig, axs = plt.subplots(1, 1, figsize=(12, 4), dpi=100)\n",
        "sns.despine(fig)\n",
        "\n",
        "sns.histplot(\n",
        "    df,\n",
        "    x=\"log_views\",\n",
        "    hue=\"topic\",\n",
        "    multiple=\"stack\",\n",
        "    edgecolor=\".3\",\n",
        "    palette=\"coolwarm\",\n",
        "    linewidth=.5,\n",
        ");\n",
        "axs.set_title('Views distribution over topic');"
      ]
    },
    {
      "cell_type": "markdown",
      "metadata": {
        "id": "ZXxIFDrzDFtG"
      },
      "source": [
        "Посчитаем длину заголовков и основного текста."
      ]
    },
    {
      "cell_type": "code",
      "execution_count": null,
      "metadata": {
        "id": "hA1AI2joDFtG"
      },
      "outputs": [],
      "source": [
        "df['len_title'] = df['title'].str.len()\n",
        "df['len_subtitle'] = df['subtitle'].str.len()\n",
        "df['len_content'] = df['content'].str.len()"
      ]
    },
    {
      "cell_type": "markdown",
      "metadata": {
        "id": "GJBCfRH0DFtG"
      },
      "source": [
        "Посмотрим, как они выглядят в разрезе каждой категории."
      ]
    },
    {
      "cell_type": "code",
      "execution_count": null,
      "metadata": {
        "id": "__vW201oDFtG"
      },
      "outputs": [],
      "source": [
        "for col in ['len_title', 'len_subtitle', 'len_content']:\n",
        "    fig, ax = plt.subplots(1, 1, figsize=(12, 5), dpi=100)\n",
        "    sns.boxplot(x=\"topic\", y=col, data=df, ax=ax)\n",
        "    plt.title(f'Boxplot of {col} by topics');"
      ]
    },
    {
      "cell_type": "markdown",
      "metadata": {
        "id": "TPVWizwiDFtJ"
      },
      "source": [
        "Что можно заметить:\n",
        "- В среднем длина заголовка по всем категориям около 65 символов\n",
        "- Второй загловок по некоторым статьям недоступен - поэтому в будущем его следует отбросить\n",
        "- Длина текста имеет тяжелые хвосты, особенно по категориям: 'world', 'economy topic', 'society'"
      ]
    },
    {
      "cell_type": "markdown",
      "metadata": {
        "id": "LBaMstc9DFtJ"
      },
      "source": [
        "Посмотрим, какие ключевые слова чаще всего встречаются в статьях каждой тематики. Одной из гипотез является то, что статьи разных, но при этом близких тематик с одинаковыми ключевыми словами могут вносить негативный вклад в работу модели."
      ]
    },
    {
      "cell_type": "code",
      "execution_count": null,
      "metadata": {
        "id": "20QLH8QDDFtJ"
      },
      "outputs": [],
      "source": [
        "stop_words = stopwords.words('russian')\n",
        "stop_words.extend(['что', 'это', 'так',\n",
        "                    'вот', 'быть', 'как',\n",
        "                    'в', '—', 'к', 'за', 'из', 'из-за',\n",
        "                    'на', 'ок', 'кстати',\n",
        "                    'который', 'мочь', 'весь',\n",
        "                    'еще', 'также', 'свой',\n",
        "                    'ещё', 'самый', 'ул', 'комментарий',\n",
        "                    'английский', 'язык'])"
      ]
    },
    {
      "cell_type": "code",
      "execution_count": null,
      "metadata": {
        "id": "xGJ3tNE3DFtJ"
      },
      "outputs": [],
      "source": [
        "%%time\n",
        "for topic in df.topic.unique():\n",
        "    words = df[df.topic == topic].title.str.split(' ').explode().values\n",
        "    words = [word.lower() for word in words if word.lower() not in stop_words]\n",
        "\n",
        "    wc = WordCloud(background_color=\"black\", width=1600, height=800)\n",
        "    wc.generate(\" \".join(words))\n",
        "\n",
        "    fig, ax = plt.subplots(1, 1, figsize=(12, 6))\n",
        "    plt.axis(\"off\")\n",
        "    plt.tight_layout(pad=0)\n",
        "    ax.set_title(f\"Frequent words in {topic} topic\", fontsize=30)\n",
        "    ax.imshow(wc, alpha=0.98)\n",
        "\n",
        "    break\n"
      ]
    },
    {
      "cell_type": "markdown",
      "metadata": {
        "id": "A7CxN5OQDFtJ"
      },
      "source": [
        "На данный момент мы выкачиваем статьи в обратном хронологическом порядке. Это значит, что в выборку попадают, как старые, так и совершенно новые статьи. Это сильно влияет на один из признаков - количество просмотров. Поэтому для корректной работы модели необходимо будет каким-то образом отнормировать этот признак. Для этого сначала посмотрим распределение возраста статей, а затем распределение отношения количества просмотров к возрасту статьи. Это будет не столь корректной оценкой, потому что количество просмотров со временем растет нелинейно. Скорее всего, эта зависимость имеет экспоненциальный характер с некоторой линией насыщения - асимптотой. Но для нулевого приближения попробуем сначала рассмотреть самый простой вариант."
      ]
    },
    {
      "cell_type": "code",
      "execution_count": null,
      "metadata": {
        "id": "09T5YEikDFtJ"
      },
      "outputs": [],
      "source": [
        "df['lifetime'] = df['datetime'].apply(lambda x: (datetime.datetime.now() - x).total_seconds())\n",
        "df['lifetime'] = df['lifetime'].apply(lambda x: divmod(x, 60)[0]) # lifetime in minutes"
      ]
    },
    {
      "cell_type": "code",
      "execution_count": null,
      "metadata": {
        "id": "XBRFWpZJDFtJ"
      },
      "outputs": [],
      "source": [
        "fig, axs = plt.subplots(1, 1, figsize=(12, 4), dpi=100)\n",
        "sns.despine(fig)\n",
        "\n",
        "sns.histplot(\n",
        "    df,\n",
        "    x=\"lifetime\",\n",
        "    hue=\"topic\",\n",
        "    multiple=\"stack\",\n",
        "    edgecolor=\".3\",\n",
        "    palette=\"coolwarm\",\n",
        "    linewidth=.5,\n",
        "    log_scale=True,\n",
        ");\n",
        "axs.set_title('Lifetime distribution over topic, minutes');"
      ]
    },
    {
      "cell_type": "markdown",
      "metadata": {
        "id": "iMLzYZp9DFtJ"
      },
      "source": [
        "Как и ожидалось, в датасете присутствуют как старые статьи, так и новые. И само распределение имеет довольно неоднозначную форму."
      ]
    },
    {
      "cell_type": "code",
      "execution_count": null,
      "metadata": {
        "id": "WROwkqruDFtJ"
      },
      "outputs": [],
      "source": [
        "df['views_by_minutes'] = (df['views'] + 1) / df['lifetime']\n",
        "df['log_views_by_minutes'] = np.log1p(df['views_by_minutes'])"
      ]
    },
    {
      "cell_type": "code",
      "execution_count": null,
      "metadata": {
        "id": "78Krmd7CDFtJ"
      },
      "outputs": [],
      "source": [
        "fig, axs = plt.subplots(1, 1, figsize=(12, 4), dpi=100)\n",
        "sns.despine(fig)\n",
        "\n",
        "sns.histplot(\n",
        "    df,\n",
        "    x=\"log_views_by_minutes\",\n",
        "    hue=\"topic\",\n",
        "    multiple=\"stack\",\n",
        "    edgecolor=\".3\",\n",
        "    palette=\"coolwarm\",\n",
        "    linewidth=.5,\n",
        "    log_scale=True,\n",
        ");\n",
        "axs.set_title('Lifetime distribution over topic, minutes');"
      ]
    },
    {
      "cell_type": "markdown",
      "metadata": {
        "id": "0yR3r0ESDFtJ"
      },
      "source": [
        "А вот новый признак - количество просмотров в минуту, или средняя скорость роста количества просмотров, - имеет уже распределение, близкое к логнормальному, и с таким признаком уже можно как-то работать."
      ]
    },
    {
      "cell_type": "markdown",
      "metadata": {
        "id": "tyTPWbmrDFtK"
      },
      "source": [
        "# Часть 2"
      ]
    },
    {
      "cell_type": "code",
      "source": [
        "!pip install natasha"
      ],
      "metadata": {
        "id": "o1nka57KN2re"
      },
      "execution_count": null,
      "outputs": []
    },
    {
      "cell_type": "code",
      "execution_count": null,
      "metadata": {
        "id": "ZGoySx0IDFtK"
      },
      "outputs": [],
      "source": [
        "from collections import defaultdict\n",
        "from sklearn.feature_extraction.text import TfidfVectorizer\n",
        "from sklearn.model_selection import train_test_split\n",
        "from sklearn.linear_model import LogisticRegression\n",
        "from sklearn.pipeline import Pipeline\n",
        "from sklearn.metrics import classification_report\n",
        "from sklearn.naive_bayes import MultinomialNB\n",
        "from sklearn.svm import SVC\n",
        "\n",
        "import gensim.downloader\n",
        "from gensim.models import Word2Vec, KeyedVectors\n",
        "from natasha import Doc, Segmenter, MorphVocab, NewsEmbedding, NewsMorphTagger\n",
        "\n",
        "import mlxtend\n",
        "from mlxtend.evaluate import paired_ttest_kfold_cv\n",
        "\n",
        "from plotly.offline import iplot\n",
        "import cufflinks as cf\n",
        "cf.go_offline()\n",
        "cf.set_config_file(offline=False, world_readable=True)"
      ]
    },
    {
      "cell_type": "code",
      "execution_count": null,
      "metadata": {
        "id": "VaaiWVkWDFtK"
      },
      "outputs": [],
      "source": [
        "RND_STATE = 73"
      ]
    },
    {
      "cell_type": "markdown",
      "metadata": {
        "id": "jzPpWVQIDFtK"
      },
      "source": [
        "# Предобработка текста\n",
        "Чтобы получить более точное и компактное представление текстов, обычно делают нормализацию текста, которая включает в себя следующие этапы:\n",
        "- lowering\n",
        "- tokenize\n",
        "- lemmatize\n",
        "- remove symbols\n",
        "- remove stop-words\n",
        "\n",
        "Для нас совершенно не важен регистр текста, его род и падеж, а также различные символы, которые и вовсе текстом не являются.\n",
        "\n",
        "Таким образом, мы ожидаем, что после предобработки текста качество модели должно возрасти.\n",
        "\n",
        "Существуют разные библиотеки для обработки текста, мы будем использовать Наташу, потому что она включяет в себя все необходимые нам элементы предобработки (токенизация и лемматизация), а также [демонстрирует сравнительно хорошее качество](https://github.com/natasha/naeval) при работе с русским языком."
      ]
    },
    {
      "cell_type": "code",
      "execution_count": null,
      "metadata": {
        "id": "TyAii5anDFtK"
      },
      "outputs": [],
      "source": [
        "segmenter = Segmenter()\n",
        "morph_vocab = MorphVocab()\n",
        "emb = NewsEmbedding()\n",
        "morph_tagger = NewsMorphTagger(emb)"
      ]
    },
    {
      "cell_type": "markdown",
      "metadata": {
        "id": "tHUMq_sfDFtL"
      },
      "source": [
        "Напишем функцию, которая будет осуществлять всю указанную выше предобработку текста."
      ]
    },
    {
      "cell_type": "code",
      "execution_count": null,
      "metadata": {
        "id": "5TlllOxPDFtL"
      },
      "outputs": [],
      "source": [
        "def text_prep(text) -> str:\n",
        "    doc = Doc(text)\n",
        "    doc.segment(segmenter)\n",
        "    doc.tag_morph(morph_tagger)\n",
        "\n",
        "    for token in doc.tokens:\n",
        "        token.lemmatize(morph_vocab)\n",
        "\n",
        "    lemmas = [_.lemma for _ in doc.tokens]\n",
        "    words = [lemma for lemma in lemmas if lemma.isalpha() and len(lemma) > 2]\n",
        "    filtered_words = [word for word in words if word not in stop_words]\n",
        "    return \" \".join(filtered_words)"
      ]
    },
    {
      "cell_type": "markdown",
      "metadata": {
        "id": "UPeTYocqDFtL"
      },
      "source": [
        "Обработаем доступные нам текстовые поля."
      ]
    },
    {
      "cell_type": "code",
      "execution_count": null,
      "metadata": {
        "id": "k3juFUzYDFtL",
        "colab": {
          "base_uri": "https://localhost:8080/",
          "height": 158
        },
        "outputId": "baca51a1-00e0-47f5-9d63-730dc2c62415"
      },
      "outputs": [
        {
          "output_type": "error",
          "ename": "NameError",
          "evalue": "ignored",
          "traceback": [
            "\u001b[0;31m---------------------------------------------------------------------------\u001b[0m",
            "\u001b[0;31mNameError\u001b[0m                                 Traceback (most recent call last)",
            "\u001b[0;32m<timed exec>\u001b[0m in \u001b[0;36m<module>\u001b[0;34m\u001b[0m\n",
            "\u001b[0;31mNameError\u001b[0m: name 'df' is not defined"
          ]
        }
      ],
      "source": [
        "%%time\n",
        "df['title_clean'] = df.title.apply(text_prep)\n",
        "df['subtitle_clean'] = df.subtitle.apply(text_prep)\n",
        "df['content_clean'] = df.content.apply(text_prep)"
      ]
    },
    {
      "cell_type": "markdown",
      "metadata": {
        "id": "NRG-6X0kDFtL"
      },
      "source": [
        "Посмотрим, насколько разумно работает наша предобработка, оценив качество преобразования текстовых данных."
      ]
    },
    {
      "cell_type": "code",
      "execution_count": null,
      "metadata": {
        "id": "TkxK7z01DFtL",
        "outputId": "75d9f0dc-6253-41e9-ed20-4f365aa1edb1",
        "colab": {
          "base_uri": "https://localhost:8080/"
        }
      },
      "outputs": [
        {
          "output_type": "execute_result",
          "data": {
            "text/plain": [
              "array([['Россиянам назвали способы экономии на покупке авто',\n",
              "        'россиянин назвать способ экономия покупка авто']], dtype=object)"
            ]
          },
          "metadata": {},
          "execution_count": 27
        }
      ],
      "source": [
        "# Заголовок\n",
        "df.sample(1)[['title', 'title_clean']].values"
      ]
    },
    {
      "cell_type": "code",
      "execution_count": null,
      "metadata": {
        "id": "DeoGF8nrDFtL",
        "outputId": "ed6cf113-10b3-4f77-c24a-d2c290264009",
        "colab": {
          "base_uri": "https://localhost:8080/"
        }
      },
      "outputs": [
        {
          "output_type": "execute_result",
          "data": {
            "text/plain": [
              "array([['Туристический автобус, в котором находились более 30 человек, попал в ДТП в Карелии',\n",
              "        'туристический автобус находиться человек попасть дтп карелия']],\n",
              "      dtype=object)"
            ]
          },
          "metadata": {},
          "execution_count": 28
        }
      ],
      "source": [
        "# Подзаголовок\n",
        "df.sample(1)[['subtitle', 'subtitle_clean']].values"
      ]
    },
    {
      "cell_type": "code",
      "execution_count": null,
      "metadata": {
        "id": "eVqkB3YKDFtL",
        "outputId": "f2f13551-aa92-48c6-bf22-d4bef6953c88",
        "colab": {
          "base_uri": "https://localhost:8080/"
        }
      },
      "outputs": [
        {
          "output_type": "execute_result",
          "data": {
            "text/plain": [
              "array([['МОСКВА, 24 окт — РИА Новости. В условиях непредсказуемости финансовых рынков следует применять диверсифицированный подход к сохранению сбережений, но стоит обратить внимание на инвестиционные инструменты с привязкой к так называемым \"принципам ESG\", заявил РИА Новости глава Росбанка Илья Поляков.\"Непредсказуемые движения финансовых рынков в последние кварталы, на мой взгляд, подтвердили необходимость диверсифицированного подхода к сохранению и приумножению сбережений. При этом для занятия тех или иных позиций выгодно использовать переломные моменты трендов\", — считает он.\\n\\n\\n\\n\\n\\n\\n\\n\\n\\n\\n\\n\\n\\n\\n\\n\\n\\n\\n\\n\\n\\n\\n\\n\\n\\n\\n\\nПоляков напомнил, что в этом году Центробанк уже несколько раз повышел ключевую ставку, и некоторые эксперты полагают, что ее пик уже не за горами.\\n\\n\\n\\n\\n\\n\"Как следствие, можно ловить более высокие ставки по депозитам или искать момент для приобретения облигаций, доходность которых будет снижаться в последующие годы\", — сказал он.\\n\\n\\n\\n\\n \\nПри этом, по его словам, мировые акции, напротив, в последние кварталы продемонстрировали отличную восстановительную динамику — и сейчас все больше укрепляется мнение о том, что она излишне оптимистична.\"Я также обратил бы внимание на инвестиционные инструменты с привязкой к принципам ESG — мы убеждены, что за этими тремя буквами будущее\", — сказал глава Росбанка.Принципы устойчивого развития, или ESG (environmental, social, governance), — это экологическая, социальная и управленческая ответственность. Многие зарубежные инвесторы уже вкладывают средства только в компании, которые их соблюдают. Но массовых продуктов для обычных граждан пока нет — например, в России только приступили к их разработке.1 июля, 03:18\\n\\n\\n\\n\\n\\n\\n\\n\\n\\n\\n\\n\\n\\n\\n\\n\\n\\n\\n\\n\\n\\n\\n\\n\\n\\n\\n\\nАналитик назвал способ выбраться из бедности, который всем подходит',\n",
              "        'москва окт риа новость условие непредсказуемость финансовый рынок следовать применять диверсифицировать подход сохранение сбережение стоить обратить внимание инвестиционный инструмент привязка называть принцип esg заявить риа новость глава росбанк илья поляков непредсказуемый движение финансовый рынок последний квартал взгляд подтвердить необходимость диверсифицировать подход сохранение приумножению сбережение занятие иной позиция выгодный использовать переломный момент тренд считать поляков напомнить год центробанк несколько повыидти ключевой ставка некоторый эксперт полагать пик гора следствие ловить высокий ставка депозит искать момент приобретение облигация доходность снижаться последующий год сказать слово мировой акция напротив последний квартал продемонстрировать отличный восстановительный динамика большой укрепляться мнение излишне оптимистичный обратить внимание инвестиционный инструмент привязка принцип esg убедить буква будущее сказать глава росбанк принцип устойчивый развитие esg environmental social governance экологический социальный управленческий ответственность многий зарубежный инвестор вкладывать средство компания соблюдать массовый продукт обычный гражданин пока например россия приступить разработка июль аналитик назвать способ выбраться бедность подходить']],\n",
              "      dtype=object)"
            ]
          },
          "metadata": {},
          "execution_count": 29
        }
      ],
      "source": [
        "# Содержание\n",
        "df.sample(1)[['content', 'content_clean']].values"
      ]
    },
    {
      "cell_type": "markdown",
      "metadata": {
        "id": "aYeBq2WpDFtM"
      },
      "source": [
        "# Word2Vec\n",
        "\n",
        "Давайте теперь применим альтернативный подход к представлению слов - Word2Vec. Этот метод основывается на семантической близости слов. Построим модель на нашей выборке новостей."
      ]
    },
    {
      "cell_type": "code",
      "execution_count": null,
      "metadata": {
        "id": "R6zrmiX1DFtM"
      },
      "outputs": [],
      "source": [
        "model = Word2Vec(sentences=df.title_clean.str.split(),\n",
        "                 vector_size=200,\n",
        "                 min_count=10,\n",
        "                 window=2,\n",
        "                 seed=RND_STATE)"
      ]
    },
    {
      "cell_type": "markdown",
      "metadata": {
        "id": "ZLlNDV-2DFtM"
      },
      "source": [
        "Посмотрим, насколько разумные у нас получились вектора."
      ]
    },
    {
      "cell_type": "code",
      "execution_count": null,
      "metadata": {
        "id": "I1KkkiH_DFtM",
        "outputId": "f272c55c-c414-49c4-df61-a06bc87b07da",
        "colab": {
          "base_uri": "https://localhost:8080/"
        }
      },
      "outputs": [
        {
          "output_type": "execute_result",
          "data": {
            "text/plain": [
              "[('ограничение', 0.9922257661819458),\n",
              " ('заразиться', 0.9907853007316589),\n",
              " ('волна', 0.986262857913971),\n",
              " ('агрессия', 0.9861168265342712),\n",
              " ('подтвердить', 0.9851509928703308),\n",
              " ('омикрон', 0.9850771427154541),\n",
              " ('заболевание', 0.9845631122589111),\n",
              " ('япония', 0.9841383099555969),\n",
              " ('мир', 0.9839007258415222),\n",
              " ('дельта', 0.9835799932479858)]"
            ]
          },
          "metadata": {},
          "execution_count": 31
        }
      ],
      "source": [
        "model.wv.most_similar(positive=[\"вакцина\"])"
      ]
    },
    {
      "cell_type": "code",
      "execution_count": null,
      "metadata": {
        "id": "85ARnw1JDFtM",
        "outputId": "0de214df-253e-4abc-d2f2-07e0b3dcf4c4",
        "colab": {
          "base_uri": "https://localhost:8080/"
        }
      },
      "outputs": [
        {
          "output_type": "execute_result",
          "data": {
            "text/plain": [
              "[('жириновский', 0.998712956905365),\n",
              " ('нуланд', 0.9984121918678284),\n",
              " ('пушок', 0.9980915188789368),\n",
              " ('отказ', 0.9980828762054443),\n",
              " ('премьер', 0.99806147813797),\n",
              " ('обвинение', 0.9979730844497681),\n",
              " ('эрдоган', 0.9979575276374817),\n",
              " ('перспектива', 0.9978755712509155),\n",
              " ('публикация', 0.997836709022522),\n",
              " ('требование', 0.9978060126304626)]"
            ]
          },
          "metadata": {},
          "execution_count": 32
        }
      ],
      "source": [
        "model.wv.most_similar(positive=[\"зюганов\"])"
      ]
    },
    {
      "cell_type": "code",
      "execution_count": null,
      "metadata": {
        "id": "w1WTok95DFtM",
        "outputId": "f18ee24b-5252-4a93-a9a5-095543ee9c57",
        "colab": {
          "base_uri": "https://localhost:8080/"
        }
      },
      "outputs": [
        {
          "output_type": "execute_result",
          "data": {
            "text/plain": [
              "[('фьючерс', 0.9920715689659119),\n",
              " ('опуститься', 0.9894124865531921),\n",
              " ('рост', 0.9845446348190308),\n",
              " ('низкий', 0.9756527543067932),\n",
              " ('brent', 0.9749504923820496),\n",
              " ('упасть', 0.9706699848175049),\n",
              " ('впервые', 0.9669743776321411),\n",
              " ('скачок', 0.9647074341773987),\n",
              " ('ямал', 0.9634296298027039),\n",
              " ('снизиться', 0.9612180590629578)]"
            ]
          },
          "metadata": {},
          "execution_count": 33
        }
      ],
      "source": [
        "model.wv.most_similar(positive=[\"нефть\"])"
      ]
    },
    {
      "cell_type": "markdown",
      "metadata": {
        "id": "y9Pl8SbvDFtM"
      },
      "source": [
        "Видим, что все выглядит очень логично и даже увлекательно :)\n",
        "\n",
        "Чтобы построить модель, нам нужно получить вектора для предложения. Это можно сделать двумя способами:\n",
        "- Усреднить вектора слов, входящих в предложение\n",
        "- Взвесить вектора слов, входящих в предложение на основании их tf-idf весов\n",
        "\n",
        "Важно заметить, что здесь легко совершить методологическую ошибку. Ранее мы обучали вектора на всей выборке, а теперь для валидации сделаем честный эксперимент и обучим только на тренировочной."
      ]
    },
    {
      "cell_type": "code",
      "execution_count": null,
      "metadata": {
        "id": "-JmBm0UIDFtM"
      },
      "outputs": [],
      "source": [
        "X_train, X_test, y_train, y_test = train_test_split(df.content_clean.str.split(),\n",
        "                                                    df.topic.values,\n",
        "                                                    random_state=RND_STATE)\n",
        "\n",
        "model = Word2Vec(sentences=X_train,\n",
        "                 vector_size=200,\n",
        "                 min_count=10,\n",
        "                 window=2,\n",
        "                 seed=RND_STATE)"
      ]
    },
    {
      "cell_type": "markdown",
      "metadata": {
        "id": "VWnOl1PeDFtM"
      },
      "source": [
        "Для того, чтобы по-прежнему использовать `Pipeline`, оформим описанные выше подходы в классы."
      ]
    },
    {
      "cell_type": "code",
      "execution_count": null,
      "metadata": {
        "id": "5lhauUKuDFtM"
      },
      "outputs": [],
      "source": [
        "class MeanEmbeddingVectorizer(object):\n",
        "    \"\"\"Get mean of vectors\"\"\"\n",
        "    def __init__(self, model):\n",
        "        self.word2vec = model.wv\n",
        "        self.dim = model.vector_size\n",
        "\n",
        "    def fit(self, X, y):\n",
        "        return self\n",
        "\n",
        "    def transform(self, X):\n",
        "        return np.array([\n",
        "            np.mean([self.word2vec.get_vector(w)\n",
        "                for w in words if w in self.word2vec] or\n",
        "                [np.zeros(self.dim)], axis=0)\n",
        "            for words in X])"
      ]
    },
    {
      "cell_type": "code",
      "execution_count": null,
      "metadata": {
        "id": "yXPvNrfjDFtM",
        "outputId": "23391400-8f95-42a1-cff2-5ab16f0b4c5a",
        "colab": {
          "base_uri": "https://localhost:8080/"
        }
      },
      "outputs": [
        {
          "output_type": "stream",
          "name": "stdout",
          "text": [
            "              precision    recall  f1-score   support\n",
            "\n",
            "     economy       0.87      0.90      0.89      1152\n",
            "   incidents       0.92      0.93      0.93      1146\n",
            "    politics       0.89      0.81      0.85      1115\n",
            "     society       0.83      0.85      0.84      1154\n",
            "       world       0.78      0.81      0.80      1093\n",
            "\n",
            "    accuracy                           0.86      5660\n",
            "   macro avg       0.86      0.86      0.86      5660\n",
            "weighted avg       0.86      0.86      0.86      5660\n",
            "\n"
          ]
        }
      ],
      "source": [
        "pipe = Pipeline([('w2v', MeanEmbeddingVectorizer(model)),\n",
        "                 ('clf', LogisticRegression(random_state=RND_STATE,\n",
        "                                            max_iter=1000))])\n",
        "\n",
        "pipe.fit(X_train, y_train)\n",
        "\n",
        "print(classification_report(y_test, pipe.predict(X_test)))"
      ]
    },
    {
      "cell_type": "code",
      "execution_count": null,
      "metadata": {
        "id": "jfFOYL6MDFtM"
      },
      "outputs": [],
      "source": [
        "class TfidfEmbeddingVectorizer(object):\n",
        "    \"\"\"Get tfidf weighted vectors\"\"\"\n",
        "    def __init__(self, model):\n",
        "        self.word2vec = model.wv\n",
        "        self.word2weight = None\n",
        "        self.dim = model.vector_size\n",
        "\n",
        "    def fit(self, X, y):\n",
        "        tfidf = TfidfVectorizer(analyzer=lambda x: x)\n",
        "        tfidf.fit(X)\n",
        "        # if a word was never seen - it must be at least as infrequent\n",
        "        # as any of the known words - so the default idf is the max of\n",
        "        # known idf's\n",
        "        max_idf = max(tfidf.idf_)\n",
        "        self.word2weight = defaultdict(\n",
        "            lambda: max_idf,\n",
        "            [(w, tfidf.idf_[i]) for w, i in tfidf.vocabulary_.items()])\n",
        "\n",
        "        return self\n",
        "\n",
        "    def transform(self, X):\n",
        "        return np.array([\n",
        "                np.mean([self.word2vec.get_vector(w) * self.word2weight[w]\n",
        "                         for w in words if w in self.word2vec] or\n",
        "                        [np.zeros(self.dim)], axis=0)\n",
        "                for words in X\n",
        "            ])"
      ]
    },
    {
      "cell_type": "code",
      "execution_count": null,
      "metadata": {
        "id": "YxDjEX5wDFtM",
        "outputId": "bd43fb7d-0a62-419c-c630-147bd35f3145",
        "colab": {
          "base_uri": "https://localhost:8080/"
        }
      },
      "outputs": [
        {
          "output_type": "stream",
          "name": "stdout",
          "text": [
            "              precision    recall  f1-score   support\n",
            "\n",
            "     economy       0.87      0.89      0.88      1152\n",
            "   incidents       0.92      0.93      0.93      1146\n",
            "    politics       0.88      0.82      0.85      1115\n",
            "     society       0.84      0.84      0.84      1154\n",
            "       world       0.78      0.81      0.80      1093\n",
            "\n",
            "    accuracy                           0.86      5660\n",
            "   macro avg       0.86      0.86      0.86      5660\n",
            "weighted avg       0.86      0.86      0.86      5660\n",
            "\n"
          ]
        }
      ],
      "source": [
        "pipe = Pipeline([('w2v', TfidfEmbeddingVectorizer(model)),\n",
        "                 ('clf', LogisticRegression(random_state=RND_STATE,\n",
        "                                            max_iter=10000))])\n",
        "\n",
        "pipe.fit(X_train, y_train)\n",
        "\n",
        "print(classification_report(y_test, pipe.predict(X_test)))"
      ]
    },
    {
      "cell_type": "markdown",
      "metadata": {
        "id": "2hW_iPdsDFtN"
      },
      "source": [
        "Построим для данной модели Confusion Matrix."
      ]
    },
    {
      "cell_type": "code",
      "execution_count": null,
      "metadata": {
        "id": "ohUrC00_DFtN",
        "outputId": "aa7e1879-166e-4a33-a382-29a93ee9de7a"
      },
      "outputs": [
        {
          "data": {
            "image/png": "[encoded data removed]",
            "text/plain": [
              "<Figure size 1152x288 with 1 Axes>"
            ]
          },
          "metadata": {
            "needs_background": "light"
          },
          "output_type": "display_data"
        }
      ],
      "source": [
        "from sklearn.metrics import confusion_matrix, ConfusionMatrixDisplay\n",
        "\n",
        "cm = confusion_matrix(y_test, y_pred, labels=pipe.classes_)\n",
        "\n",
        "cm_df = pd.DataFrame(data=cm, columns=pipe.classes_, index=pipe.classes_)\n",
        "\n",
        "plt.figure(figsize=(16, 4))\n",
        "\n",
        "sns.heatmap(cm_df, square=False, annot=True, cmap='Blues', fmt='d', cbar=False);"
      ]
    },
    {
      "cell_type": "code",
      "source": [
        "%%prun\n",
        "df['install_date'] = pd.to_datetime(df['install_date']).dt.date\n",
        "df['install_date'] = df['install_date'].astype(str)"
      ],
      "metadata": {
        "id": "C-A5OXk7hP-Y"
      },
      "execution_count": null,
      "outputs": []
    }
  ],
  "metadata": {
    "interpreter": {
      "hash": "403959ecd139c89f35081fab3d0ca535dfc149adc8a1d47a6d44f830632776ba"
    },
    "kernelspec": {
      "display_name": "Python 3 (ipykernel)",
      "language": "python",
      "name": "python3"
    },
    "language_info": {
      "codemirror_mode": {
        "name": "ipython",
        "version": 3
      },
      "file_extension": ".py",
      "mimetype": "text/x-python",
      "name": "python",
      "nbconvert_exporter": "python",
      "pygments_lexer": "ipython3",
      "version": "3.9.16"
    },
    "colab": {
      "provenance": [],
      "toc_visible": true
    }
  },
  "nbformat": 4,
  "nbformat_minor": 0
}